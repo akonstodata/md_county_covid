{
 "cells": [
  {
   "cell_type": "markdown",
   "metadata": {},
   "source": [
    "### Modeling and visualizing dynamics of COVID cases in Maryland counties\n",
    "#### Anna Konstorum (konstorum.anna@gmail.com)"
   ]
  },
  {
   "cell_type": "code",
   "execution_count": 1,
   "metadata": {
    "collapsed": true
   },
   "outputs": [],
   "source": [
    "# import packages\n",
    "import datetime\n",
    "import os\n",
    "import matplotlib.pyplot as plt\n",
    "from scipy.optimize import curve_fit\n",
    "import seaborn as sns\n",
    "import pandas as pd\n",
    "import numpy as np\n",
    "import seaborn as sns\n",
    "from matplotlib.lines import Line2D\n",
    "%matplotlib inline"
   ]
  },
  {
   "cell_type": "code",
   "execution_count": 2,
   "metadata": {
    "collapsed": false,
    "scrolled": true
   },
   "outputs": [
    {
     "name": "stdout",
     "output_type": "stream",
     "text": [
      "Last updated: 2020-04-17\n"
     ]
    }
   ],
   "source": [
    "print(f'Last updated: {datetime.date.today()}')"
   ]
  },
  {
   "cell_type": "code",
   "execution_count": 3,
   "metadata": {
    "collapsed": false
   },
   "outputs": [],
   "source": [
    "# import latest MD county counts\n",
    "url='https://raw.githubusercontent.com/akonstodata/md_county_covid/master/data/MD_county_covid.csv'\n",
    "md_county=pd.read_csv(url,sep=',',header='infer', parse_dates=[1],index_col=0)\n",
    "md_p_today=md_county.iloc[-1]\n",
    "md_p_today=md_p_today[0:-1]"
   ]
  },
  {
   "cell_type": "code",
   "execution_count": 38,
   "metadata": {
    "collapsed": false
   },
   "outputs": [],
   "source": [
    "# import additional data\n",
    "\n",
    "# hospitalization and deaths counts for Maryland\n",
    "url='https://raw.githubusercontent.com/akonstodata/md_county_covid/master/data/MD_covid_H.csv'\n",
    "md_xtra=pd.read_csv(url,sep=',',header='infer', parse_dates=[1],index_col=0)\n",
    "\n",
    "# deaths counts for all counties\n",
    "url='https://raw.githubusercontent.com/akonstodata/md_county_covid/master/data/MD_covid_D.csv'\n",
    "md_d=pd.read_csv(url,sep=',',header='infer', parse_dates=[1],index_col=0)\n",
    "md_d_today=md_d.iloc[-1]\n",
    "md_d_today=md_d_today.iloc[0:-2]\n",
    "\n",
    "# maryland population demographics\n",
    "url='https://raw.githubusercontent.com/akonstodata/md_county_covid/master/data/MD_2019_pop.csv'\n",
    "md_pop=pd.read_csv(url,sep=',',header='infer',index_col=0)"
   ]
  },
  {
   "cell_type": "code",
   "execution_count": 5,
   "metadata": {
    "collapsed": false
   },
   "outputs": [
    {
     "data": {
      "text/html": [
       "<div>\n",
       "<style scoped>\n",
       "    .dataframe tbody tr th:only-of-type {\n",
       "        vertical-align: middle;\n",
       "    }\n",
       "\n",
       "    .dataframe tbody tr th {\n",
       "        vertical-align: top;\n",
       "    }\n",
       "\n",
       "    .dataframe thead th {\n",
       "        text-align: right;\n",
       "    }\n",
       "</style>\n",
       "<table border=\"1\" class=\"dataframe\">\n",
       "  <thead>\n",
       "    <tr style=\"text-align: right;\">\n",
       "      <th></th>\n",
       "      <th>Date</th>\n",
       "      <th>Allegany</th>\n",
       "      <th>Anne Arundel</th>\n",
       "      <th>Baltimore City</th>\n",
       "      <th>Baltimore County</th>\n",
       "      <th>Calvert</th>\n",
       "      <th>Caroline</th>\n",
       "      <th>Carroll</th>\n",
       "      <th>Cecil</th>\n",
       "      <th>Charles</th>\n",
       "      <th>...</th>\n",
       "      <th>Montgomery</th>\n",
       "      <th>Prince Georges</th>\n",
       "      <th>Queen Anne's</th>\n",
       "      <th>St. Mary's</th>\n",
       "      <th>Somerset</th>\n",
       "      <th>Talbot</th>\n",
       "      <th>Washington</th>\n",
       "      <th>Wicomico</th>\n",
       "      <th>Worcester</th>\n",
       "      <th>Total</th>\n",
       "    </tr>\n",
       "    <tr>\n",
       "      <th>Date_index</th>\n",
       "      <th></th>\n",
       "      <th></th>\n",
       "      <th></th>\n",
       "      <th></th>\n",
       "      <th></th>\n",
       "      <th></th>\n",
       "      <th></th>\n",
       "      <th></th>\n",
       "      <th></th>\n",
       "      <th></th>\n",
       "      <th></th>\n",
       "      <th></th>\n",
       "      <th></th>\n",
       "      <th></th>\n",
       "      <th></th>\n",
       "      <th></th>\n",
       "      <th></th>\n",
       "      <th></th>\n",
       "      <th></th>\n",
       "      <th></th>\n",
       "      <th></th>\n",
       "    </tr>\n",
       "  </thead>\n",
       "  <tbody>\n",
       "    <tr>\n",
       "      <th>38</th>\n",
       "      <td>2020-04-12</td>\n",
       "      <td>13</td>\n",
       "      <td>659</td>\n",
       "      <td>812</td>\n",
       "      <td>1257</td>\n",
       "      <td>90</td>\n",
       "      <td>17</td>\n",
       "      <td>236</td>\n",
       "      <td>74</td>\n",
       "      <td>253</td>\n",
       "      <td>...</td>\n",
       "      <td>1631</td>\n",
       "      <td>2035</td>\n",
       "      <td>19</td>\n",
       "      <td>82</td>\n",
       "      <td>4</td>\n",
       "      <td>14</td>\n",
       "      <td>75</td>\n",
       "      <td>42</td>\n",
       "      <td>20</td>\n",
       "      <td>8225</td>\n",
       "    </tr>\n",
       "    <tr>\n",
       "      <th>39</th>\n",
       "      <td>2020-04-13</td>\n",
       "      <td>15</td>\n",
       "      <td>724</td>\n",
       "      <td>873</td>\n",
       "      <td>1361</td>\n",
       "      <td>94</td>\n",
       "      <td>21</td>\n",
       "      <td>250</td>\n",
       "      <td>83</td>\n",
       "      <td>274</td>\n",
       "      <td>...</td>\n",
       "      <td>1756</td>\n",
       "      <td>2205</td>\n",
       "      <td>19</td>\n",
       "      <td>95</td>\n",
       "      <td>6</td>\n",
       "      <td>16</td>\n",
       "      <td>93</td>\n",
       "      <td>58</td>\n",
       "      <td>21</td>\n",
       "      <td>8936</td>\n",
       "    </tr>\n",
       "    <tr>\n",
       "      <th>40</th>\n",
       "      <td>2020-04-14</td>\n",
       "      <td>17</td>\n",
       "      <td>783</td>\n",
       "      <td>962</td>\n",
       "      <td>1377</td>\n",
       "      <td>99</td>\n",
       "      <td>21</td>\n",
       "      <td>259</td>\n",
       "      <td>85</td>\n",
       "      <td>292</td>\n",
       "      <td>...</td>\n",
       "      <td>1883</td>\n",
       "      <td>2356</td>\n",
       "      <td>19</td>\n",
       "      <td>98</td>\n",
       "      <td>5</td>\n",
       "      <td>16</td>\n",
       "      <td>96</td>\n",
       "      <td>63</td>\n",
       "      <td>21</td>\n",
       "      <td>9472</td>\n",
       "    </tr>\n",
       "    <tr>\n",
       "      <th>41</th>\n",
       "      <td>2020-04-15</td>\n",
       "      <td>17</td>\n",
       "      <td>845</td>\n",
       "      <td>1060</td>\n",
       "      <td>1485</td>\n",
       "      <td>102</td>\n",
       "      <td>22</td>\n",
       "      <td>262</td>\n",
       "      <td>90</td>\n",
       "      <td>310</td>\n",
       "      <td>...</td>\n",
       "      <td>1933</td>\n",
       "      <td>2516</td>\n",
       "      <td>19</td>\n",
       "      <td>99</td>\n",
       "      <td>5</td>\n",
       "      <td>14</td>\n",
       "      <td>106</td>\n",
       "      <td>76</td>\n",
       "      <td>22</td>\n",
       "      <td>10032</td>\n",
       "    </tr>\n",
       "    <tr>\n",
       "      <th>42</th>\n",
       "      <td>2020-04-16</td>\n",
       "      <td>20</td>\n",
       "      <td>896</td>\n",
       "      <td>1160</td>\n",
       "      <td>1516</td>\n",
       "      <td>103</td>\n",
       "      <td>23</td>\n",
       "      <td>283</td>\n",
       "      <td>101</td>\n",
       "      <td>327</td>\n",
       "      <td>...</td>\n",
       "      <td>2133</td>\n",
       "      <td>2722</td>\n",
       "      <td>19</td>\n",
       "      <td>98</td>\n",
       "      <td>6</td>\n",
       "      <td>14</td>\n",
       "      <td>109</td>\n",
       "      <td>87</td>\n",
       "      <td>25</td>\n",
       "      <td>10784</td>\n",
       "    </tr>\n",
       "  </tbody>\n",
       "</table>\n",
       "<p>5 rows × 26 columns</p>\n",
       "</div>"
      ],
      "text/plain": [
       "                 Date  Allegany  Anne Arundel  Baltimore City  \\\n",
       "Date_index                                                      \n",
       "38         2020-04-12        13           659             812   \n",
       "39         2020-04-13        15           724             873   \n",
       "40         2020-04-14        17           783             962   \n",
       "41         2020-04-15        17           845            1060   \n",
       "42         2020-04-16        20           896            1160   \n",
       "\n",
       "            Baltimore County  Calvert  Caroline  Carroll  Cecil  Charles  \\\n",
       "Date_index                                                                 \n",
       "38                      1257       90        17      236     74      253   \n",
       "39                      1361       94        21      250     83      274   \n",
       "40                      1377       99        21      259     85      292   \n",
       "41                      1485      102        22      262     90      310   \n",
       "42                      1516      103        23      283    101      327   \n",
       "\n",
       "            ...    Montgomery  Prince Georges  Queen Anne's  St. Mary's  \\\n",
       "Date_index  ...                                                           \n",
       "38          ...          1631            2035            19          82   \n",
       "39          ...          1756            2205            19          95   \n",
       "40          ...          1883            2356            19          98   \n",
       "41          ...          1933            2516            19          99   \n",
       "42          ...          2133            2722            19          98   \n",
       "\n",
       "            Somerset  Talbot  Washington  Wicomico  Worcester  Total  \n",
       "Date_index                                                            \n",
       "38                 4      14          75        42         20   8225  \n",
       "39                 6      16          93        58         21   8936  \n",
       "40                 5      16          96        63         21   9472  \n",
       "41                 5      14         106        76         22  10032  \n",
       "42                 6      14         109        87         25  10784  \n",
       "\n",
       "[5 rows x 26 columns]"
      ]
     },
     "execution_count": 5,
     "metadata": {},
     "output_type": "execute_result"
    }
   ],
   "source": [
    "md_county.tail()"
   ]
  },
  {
   "cell_type": "code",
   "execution_count": 6,
   "metadata": {
    "collapsed": false
   },
   "outputs": [],
   "source": [
    "# create exponential function to model \n",
    "# will add additional functions shortly\n",
    "\n",
    "def exp_func(x, a, b, c):\n",
    "    return a * np.exp(b * x) + c\n",
    "\n",
    "def quad_func(x,a,b,c):\n",
    "    return a*x**2 +b*x+c\n",
    "\n",
    "def lin_func(x,a,b):\n",
    "    return a*x + b"
   ]
  },
  {
   "cell_type": "code",
   "execution_count": 7,
   "metadata": {
    "collapsed": true
   },
   "outputs": [],
   "source": [
    "def SSE_curve(x,y,fxn):\n",
    "    popt,pop = curve_fit(fxn,x,y)\n",
    "    y_exp= fxn(x, *popt)\n",
    "    SSE = sum((y-y_exp)**2)\n",
    "    return popt,SSE"
   ]
  },
  {
   "cell_type": "code",
   "execution_count": 8,
   "metadata": {
    "collapsed": false
   },
   "outputs": [
    {
     "name": "stdout",
     "output_type": "stream",
     "text": [
      "Data from 2020-03-05 to 2020-04-16\n"
     ]
    }
   ],
   "source": [
    "# date range of the graph\n",
    "start_date = min(md_county['Date'])\n",
    "end_date = max(md_county['Date'])\n",
    "next_date=end_date+datetime.timedelta(days=1)\n",
    "\n",
    "print(f'Data from {start_date.strftime(\"%Y-%m-%d\")} to {end_date.strftime(\"%Y-%m-%d\")}')"
   ]
  },
  {
   "cell_type": "code",
   "execution_count": 9,
   "metadata": {
    "collapsed": true
   },
   "outputs": [],
   "source": [
    "# Textual date for labels\n",
    "tomorrow_label = (end_date + datetime.timedelta(days=1)).strftime('%m/%d')\n",
    "next2_label = (end_date + datetime.timedelta(days=2)).strftime('%m/%d')\n",
    "next3_label = (end_date + datetime.timedelta(days=3)).strftime('%m/%d')\n",
    "\n",
    "# get current date range\n",
    "date_range=pd.date_range(start=start_date, end=end_date)\n",
    "date_range_plus=pd.date_range(start=start_date,end=next_date)\n",
    "\n",
    "\n",
    "# output date range as list\n",
    "dates = [date.strftime('%m/%d') for date in date_range_plus]"
   ]
  },
  {
   "cell_type": "code",
   "execution_count": 10,
   "metadata": {
    "collapsed": true
   },
   "outputs": [],
   "source": [
    "# Include all dates, even those with missing data\n",
    "xdata_full=np.array(range(len(dates)))\n",
    "xdata_pred=np.array(range(len(dates)))[-11:]\n",
    "xdata_hosp=np.array(range(len(dates)))[-11:]"
   ]
  },
  {
   "cell_type": "code",
   "execution_count": 11,
   "metadata": {
    "collapsed": false
   },
   "outputs": [],
   "source": [
    "# model fit for hosp\n",
    "model_hosp = pd.DataFrame(index=['hosp'],columns=['a','b','c','model'])\n",
    "model_hosp.fillna(0)\n",
    "\n",
    "xdata=np.array(md_xtra.index)[17:]\n",
    "ydata=np.array(md_xtra[\"Hospitalized\"])[17:]\n",
    "\n",
    "popt_quad,SSE_quad = SSE_curve(xdata,ydata,quad_func)\n",
    "popt_lin,SSE_lin = SSE_curve(xdata,ydata,lin_func)\n",
    "\n",
    "quad_lin_diff=(SSE_lin-SSE_quad)/SSE_lin*100\n",
    "    \n",
    "if quad_lin_diff<5:\n",
    "    no_quad=1\n",
    "else:\n",
    "    no_quad=0\n",
    "    \n",
    "try:\n",
    "    popt_exp, SSE_exp = SSE_curve(xdata,ydata,exp_func)\n",
    "    min_error=min(SSE_exp,SSE_quad,SSE_lin)\n",
    "except:    \n",
    "    min_error=min(SSE_quad,SSE_lin)\n",
    "\n",
    "if (min_error==SSE_quad) and (no_quad==1):\n",
    "    min_error=SSE_lin\n",
    "    \n",
    "if min_error == SSE_exp:\n",
    "    model_hosp.loc['hosp',['a','b','c']]=popt_exp\n",
    "    model_hosp.loc['hosp','model']='exp'\n",
    "elif min_error == SSE_quad:\n",
    "    model_hosp.loc['hosp',['a','b','c']]=popt_quad\n",
    "    model_hosp.loc['hosp','model']='quad'\n",
    "elif min_error == SSE_lin:\n",
    "    model_hosp.loc['hosp',['a','b']]=popt_lin\n",
    "    model_hosp.loc['hosp','model']='lin'"
   ]
  },
  {
   "cell_type": "code",
   "execution_count": 12,
   "metadata": {
    "collapsed": false
   },
   "outputs": [
    {
     "data": {
      "text/html": [
       "<div>\n",
       "<style scoped>\n",
       "    .dataframe tbody tr th:only-of-type {\n",
       "        vertical-align: middle;\n",
       "    }\n",
       "\n",
       "    .dataframe tbody tr th {\n",
       "        vertical-align: top;\n",
       "    }\n",
       "\n",
       "    .dataframe thead th {\n",
       "        text-align: right;\n",
       "    }\n",
       "</style>\n",
       "<table border=\"1\" class=\"dataframe\">\n",
       "  <thead>\n",
       "    <tr style=\"text-align: right;\">\n",
       "      <th></th>\n",
       "      <th>a</th>\n",
       "      <th>b</th>\n",
       "      <th>c</th>\n",
       "      <th>model</th>\n",
       "    </tr>\n",
       "  </thead>\n",
       "  <tbody>\n",
       "    <tr>\n",
       "      <th>hosp</th>\n",
       "      <td>3.0259</td>\n",
       "      <td>-79.8115</td>\n",
       "      <td>462.498</td>\n",
       "      <td>quad</td>\n",
       "    </tr>\n",
       "  </tbody>\n",
       "</table>\n",
       "</div>"
      ],
      "text/plain": [
       "           a        b        c model\n",
       "hosp  3.0259 -79.8115  462.498  quad"
      ]
     },
     "execution_count": 12,
     "metadata": {},
     "output_type": "execute_result"
    }
   ],
   "source": [
    "model_hosp"
   ]
  },
  {
   "cell_type": "code",
   "execution_count": 13,
   "metadata": {
    "collapsed": false
   },
   "outputs": [
    {
     "name": "stdout",
     "output_type": "stream",
     "text": [
      "Montgomery\n",
      "124.684302801\n",
      "Anne Arundel\n",
      "-5.55111512313e-14\n",
      "Prince Georges\n",
      "133.693994846\n",
      "Howard\n",
      "130.144327748\n",
      "Baltimore City\n",
      "39.9062662732\n",
      "Baltimore County\n",
      "407.271557858\n",
      "Total\n",
      "185.559665086\n"
     ]
    },
    {
     "name": "stderr",
     "output_type": "stream",
     "text": [
      "/Users/annakonstorum/anaconda/lib/python3.6/site-packages/scipy/optimize/minpack.py:808: OptimizeWarning: Covariance of the parameters could not be estimated\n",
      "  category=OptimizeWarning)\n"
     ]
    }
   ],
   "source": [
    "# model fit for select counties\n",
    "import math\n",
    "\n",
    "counties_to_model=['Montgomery','Anne Arundel',\"Prince Georges\",\"Howard\",'Baltimore City','Baltimore County','Total']\n",
    "model_results=pd.DataFrame(index=counties_to_model,columns=['a','b','c','model'])\n",
    "model_results.fillna(0)\n",
    "\n",
    "xdata=np.array(md_county.index)[-10:]\n",
    "for county in counties_to_model:\n",
    "    ydata=np.array(md_county[county])[-10:]\n",
    "    \n",
    "    popt_quad,SSE_quad = SSE_curve(xdata,ydata,quad_func)\n",
    "    popt_lin,SSE_lin = SSE_curve(xdata,ydata,lin_func)\n",
    "    \n",
    "    quad_lin_diff=((SSE_lin/SSE_quad)-1)*100\n",
    "    print(county)\n",
    "    print(quad_lin_diff)\n",
    "    \n",
    "    if quad_lin_diff<5:\n",
    "        no_quad=1\n",
    "    else:\n",
    "        no_quad=0\n",
    "    \n",
    "    try:\n",
    "        popt_exp, SSE_exp = SSE_curve(xdata,ydata,exp_func)\n",
    "        min_error=min(SSE_exp,SSE_quad,SSE_lin)\n",
    "    except:    \n",
    "        min_error=min(SSE_quad,SSE_lin)\n",
    "    \n",
    "    if (min_error==SSE_quad) and (no_quad==1):\n",
    "        min_error=SSE_lin\n",
    "\n",
    "    if min_error == SSE_quad:\n",
    "        model_results.loc[county,['a','b','c']]=popt_quad\n",
    "        model_results.loc[county,'model']='quad'\n",
    "    elif min_error == SSE_lin:\n",
    "        model_results.loc[county,['a','b']]=popt_lin\n",
    "        model_results.loc[county,'model']='lin'\n",
    "    elif min_error == SSE_exp:\n",
    "        model_results.loc[county,['a','b','c']]=popt_exp\n",
    "        model_results.loc[county,'model']='exp'"
   ]
  },
  {
   "cell_type": "code",
   "execution_count": 14,
   "metadata": {
    "collapsed": false
   },
   "outputs": [
    {
     "data": {
      "text/html": [
       "<div>\n",
       "<style scoped>\n",
       "    .dataframe tbody tr th:only-of-type {\n",
       "        vertical-align: middle;\n",
       "    }\n",
       "\n",
       "    .dataframe tbody tr th {\n",
       "        vertical-align: top;\n",
       "    }\n",
       "\n",
       "    .dataframe thead th {\n",
       "        text-align: right;\n",
       "    }\n",
       "</style>\n",
       "<table border=\"1\" class=\"dataframe\">\n",
       "  <thead>\n",
       "    <tr style=\"text-align: right;\">\n",
       "      <th></th>\n",
       "      <th>a</th>\n",
       "      <th>b</th>\n",
       "      <th>c</th>\n",
       "      <th>model</th>\n",
       "    </tr>\n",
       "  </thead>\n",
       "  <tbody>\n",
       "    <tr>\n",
       "      <th>Montgomery</th>\n",
       "      <td>-4.29924</td>\n",
       "      <td>454.661</td>\n",
       "      <td>-9425.12</td>\n",
       "      <td>quad</td>\n",
       "    </tr>\n",
       "    <tr>\n",
       "      <th>Anne Arundel</th>\n",
       "      <td>56.5515</td>\n",
       "      <td>-1478.98</td>\n",
       "      <td>NaN</td>\n",
       "      <td>lin</td>\n",
       "    </tr>\n",
       "    <tr>\n",
       "      <th>Prince Georges</th>\n",
       "      <td>-5.01136</td>\n",
       "      <td>556.089</td>\n",
       "      <td>-11836.9</td>\n",
       "      <td>quad</td>\n",
       "    </tr>\n",
       "    <tr>\n",
       "      <th>Howard</th>\n",
       "      <td>-0.708333</td>\n",
       "      <td>75.7068</td>\n",
       "      <td>-1485.67</td>\n",
       "      <td>quad</td>\n",
       "    </tr>\n",
       "    <tr>\n",
       "      <th>Baltimore City</th>\n",
       "      <td>1.58333</td>\n",
       "      <td>-46.2652</td>\n",
       "      <td>293.318</td>\n",
       "      <td>quad</td>\n",
       "    </tr>\n",
       "    <tr>\n",
       "      <th>Baltimore County</th>\n",
       "      <td>-6.30682</td>\n",
       "      <td>564.223</td>\n",
       "      <td>-11063.6</td>\n",
       "      <td>quad</td>\n",
       "    </tr>\n",
       "    <tr>\n",
       "      <th>Total</th>\n",
       "      <td>-18.9129</td>\n",
       "      <td>2097.91</td>\n",
       "      <td>-44099.7</td>\n",
       "      <td>quad</td>\n",
       "    </tr>\n",
       "  </tbody>\n",
       "</table>\n",
       "</div>"
      ],
      "text/plain": [
       "                         a        b        c model\n",
       "Montgomery        -4.29924  454.661 -9425.12  quad\n",
       "Anne Arundel       56.5515 -1478.98      NaN   lin\n",
       "Prince Georges    -5.01136  556.089 -11836.9  quad\n",
       "Howard           -0.708333  75.7068 -1485.67  quad\n",
       "Baltimore City     1.58333 -46.2652  293.318  quad\n",
       "Baltimore County  -6.30682  564.223 -11063.6  quad\n",
       "Total             -18.9129  2097.91 -44099.7  quad"
      ]
     },
     "execution_count": 14,
     "metadata": {},
     "output_type": "execute_result"
    }
   ],
   "source": [
    "model_results"
   ]
  },
  {
   "cell_type": "code",
   "execution_count": 15,
   "metadata": {
    "collapsed": true
   },
   "outputs": [],
   "source": [
    "#func use\n",
    "def function_use(county,model_results):\n",
    "    if model_results.loc[county][\"model\"]=='exp':\n",
    "        func_use=exp_func\n",
    "        opt_model = 'Exponential'\n",
    "    elif model_results.loc[county][\"model\"]=='quad':\n",
    "        func_use=quad_func\n",
    "        opt_model = 'Quadratic (up)'\n",
    "        if model_results.loc[county]['a']<0:\n",
    "            opt_model = \"Quadratic (down)\"\n",
    "    else:\n",
    "        func_use=lin_func\n",
    "        opt_model = 'Linear'\n",
    "    return func_use, opt_model"
   ]
  },
  {
   "cell_type": "code",
   "execution_count": 16,
   "metadata": {
    "collapsed": false
   },
   "outputs": [
    {
     "data": {
      "text/html": [
       "<div>\n",
       "<style scoped>\n",
       "    .dataframe tbody tr th:only-of-type {\n",
       "        vertical-align: middle;\n",
       "    }\n",
       "\n",
       "    .dataframe tbody tr th {\n",
       "        vertical-align: top;\n",
       "    }\n",
       "\n",
       "    .dataframe thead th {\n",
       "        text-align: right;\n",
       "    }\n",
       "</style>\n",
       "<table border=\"1\" class=\"dataframe\">\n",
       "  <thead>\n",
       "    <tr style=\"text-align: right;\">\n",
       "      <th></th>\n",
       "      <th>Percent</th>\n",
       "    </tr>\n",
       "    <tr>\n",
       "      <th>Date_index</th>\n",
       "      <th></th>\n",
       "    </tr>\n",
       "  </thead>\n",
       "  <tbody>\n",
       "    <tr>\n",
       "      <th>39</th>\n",
       "      <td>22.102</td>\n",
       "    </tr>\n",
       "    <tr>\n",
       "      <th>40</th>\n",
       "      <td>22.403</td>\n",
       "    </tr>\n",
       "    <tr>\n",
       "      <th>41</th>\n",
       "      <td>22.239</td>\n",
       "    </tr>\n",
       "  </tbody>\n",
       "</table>\n",
       "</div>"
      ],
      "text/plain": [
       "            Percent\n",
       "Date_index         \n",
       "39           22.102\n",
       "40           22.403\n",
       "41           22.239"
      ]
     },
     "execution_count": 16,
     "metadata": {},
     "output_type": "execute_result"
    }
   ],
   "source": [
    "# hospitalization/positive case ratio\n",
    "h_p=pd.DataFrame(md_xtra.loc[21:][\"Hospitalized\"]/md_county.loc[21:][\"Total\"])\n",
    "h_p.columns=[\"Percent\"]\n",
    "h_p[\"Percent\"] = [float(\"{:.3f}\".format(100*item)) for item in h_p[\"Percent\"]]\n",
    "h_p[-4:-1]"
   ]
  },
  {
   "cell_type": "code",
   "execution_count": 17,
   "metadata": {
    "collapsed": false
   },
   "outputs": [
    {
     "data": {
      "text/plain": [
       "3.6349999999999998"
      ]
     },
     "execution_count": 17,
     "metadata": {},
     "output_type": "execute_result"
    }
   ],
   "source": [
    "# hospitalization/positive case ratio\n",
    "h_d=pd.DataFrame(md_xtra.loc[23:][\"Deaths\"]/md_county.loc[23:][\"Total\"])\n",
    "h_d.columns=[\"Percent\"]\n",
    "h_d[\"Percent\"] = [float(\"{:.3f}\".format(100*item)) for item in h_d[\"Percent\"]]\n",
    "h_d[-4:-1]\n",
    "h_d.iloc[-1][\"Percent\"]"
   ]
  },
  {
   "cell_type": "markdown",
   "metadata": {},
   "source": [
    "### Maryland model and dynamics"
   ]
  },
  {
   "cell_type": "code",
   "execution_count": 18,
   "metadata": {
    "collapsed": true
   },
   "outputs": [],
   "source": [
    "next_day = xdata_pred[-1]\n",
    "next2_day = next_day+1; next3_day = next_day+2\n",
    "sub = \"[1] First cases in Maryland; [2] Bars, restaurants, gyms close; [3] Non-essential businesses close; [4] Stay-at-home order\""
   ]
  },
  {
   "cell_type": "code",
   "execution_count": 19,
   "metadata": {
    "collapsed": false
   },
   "outputs": [],
   "source": [
    "popt_state = model_results.loc[\"Total\"][0:3]\n",
    "func_use, opt_model = function_use(\"Total\",model_results)\n",
    "\n",
    "popt_hosp = model_hosp.loc[\"hosp\"][0:3]\n",
    "func_use_hosp, opt_model_hosp = function_use(\"hosp\",model_hosp)\n",
    "\n",
    "if opt_model==\"Linear\":\n",
    "    next_day_cases = func_use(next_day, popt_state[0], popt_state[1])\n",
    "    next2_day_cases = func_use(next2_day, popt_state[0], popt_state[1])\n",
    "    next3_day_cases = func_use(next3_day, popt_state[0], popt_state[1])\n",
    "\n",
    "else:    \n",
    "    next_day_cases = func_use(next_day, popt_state[0], popt_state[1], popt_state[2])\n",
    "    next2_day_cases = func_use(next2_day, popt_state[0], popt_state[1], popt_state[2])\n",
    "    next3_day_cases = func_use(next3_day, popt_state[0], popt_state[1], popt_state[2])\n",
    "\n",
    "if opt_model_hosp==\"Linear\":\n",
    "    next_day_cases_hosp = func_use_hosp(next_day, popt_hosp[0], popt_hosp[1])\n",
    "    next2_day_cases_hosp = func_use_hosp(next2_day, popt_hosp[0], popt_hosp[1])\n",
    "    next3_day_cases_hosp = func_use_hosp(next3_day, popt_hosp[0], popt_hosp[1])\n",
    "\n",
    "else:\n",
    "    next_day_cases_hosp = func_use_hosp(next_day, popt_hosp[0], popt_hosp[1], popt_hosp[2])\n",
    "    next2_day_cases_hosp = func_use_hosp(next2_day, popt_hosp[0], popt_hosp[1], popt_hosp[2])\n",
    "    next3_day_cases_hosp = func_use_hosp(next3_day, popt_hosp[0], popt_hosp[1], popt_hosp[2])\n",
    "\n",
    "\n",
    "loc = \"Maryland cases\"\n",
    "locH = \"Maryland hospitalizations\"\n",
    "model = \"Best fit model: {}\"\n",
    "pred_text=\"Prediction for total cases:\"\n",
    "next_pred='\\t{}: {}';"
   ]
  },
  {
   "cell_type": "code",
   "execution_count": 20,
   "metadata": {
    "collapsed": false
   },
   "outputs": [
    {
     "name": "stderr",
     "output_type": "stream",
     "text": [
      "/Users/annakonstorum/anaconda/lib/python3.6/site-packages/matplotlib/backends/backend_agg.py:214: RuntimeWarning: Glyph 9 missing from current font.\n",
      "  font.set_text(s, 0.0, flags=flags)\n",
      "/Users/annakonstorum/anaconda/lib/python3.6/site-packages/matplotlib/backends/backend_agg.py:183: RuntimeWarning: Glyph 9 missing from current font.\n",
      "  font.set_text(s, 0, flags=flags)\n"
     ]
    },
    {
     "data": {
      "image/png": "[encoded data removed]",
      "text/plain": [
       "<Figure size 1080x720 with 1 Axes>"
      ]
     },
     "metadata": {},
     "output_type": "display_data"
    }
   ],
   "source": [
    "legend_elements =  [Line2D([0], [0], marker='+', color='red', label=loc, markersize=15),\n",
    "                    Line2D([0], [0], marker='', color='black',linestyle='', label=model.format(opt_model), markersize=15),\n",
    "                Line2D([1], [0], marker='', color='black',linestyle='', label=pred_text, markersize=1),\n",
    "                   Line2D([1], [0], marker='', color='black',linestyle='', label=next_pred.format(tomorrow_label,int(next_day_cases)), markersize=1),\n",
    "                   Line2D([0], [0], marker='', color='black',linestyle='', label=next_pred.format(next2_label,int(next2_day_cases)), markersize=15),\n",
    "                   Line2D([0], [0], marker='', color='black',linestyle='', label=next_pred.format(next3_label,int(next3_day_cases)), markersize=15),\n",
    "                    Line2D([0], [0], marker='+', color='green', label=locH, markersize=15),\n",
    "                    Line2D([0], [0], marker='', color='black',linestyle='', label=model.format(opt_model_hosp), markersize=15),\n",
    "                Line2D([1], [0], marker='', color='black',linestyle='', label=pred_text, markersize=1),\n",
    "                   Line2D([1], [0], marker='', color='black',linestyle='', label=next_pred.format(tomorrow_label,int(next_day_cases_hosp)), markersize=1),\n",
    "                   Line2D([0], [0], marker='', color='black',linestyle='', label=next_pred.format(next2_label,int(next2_day_cases_hosp)), markersize=15),\n",
    "                   Line2D([0], [0], marker='', color='black',linestyle='', label=next_pred.format(next3_label,int(next3_day_cases_hosp)), markersize=15)]\n",
    "\n",
    "plt.figure(figsize=(15,10))\n",
    "\n",
    "if opt_model=='Linear':\n",
    "    popt_state=popt_state[0:2]\n",
    "if opt_model_hosp==\"Linear\":\n",
    "    popt_hosp=popt_hosp[0:2]\n",
    "    \n",
    "plt.plot(xdata_pred, func_use(xdata_pred, *popt_state), color='grey',linestyle='--');\n",
    "plt.scatter(md_county.index,md_county['Total'],color='red',marker='+');\n",
    "\n",
    "plt.plot(xdata_hosp, func_use_hosp(xdata_hosp, *popt_hosp), color='grey',linestyle='--');\n",
    "plt.scatter(md_xtra.index[17:],md_xtra['Hospitalized'][17:],color='green',marker='+');\n",
    "\n",
    "plt.vlines(x=0, ymin=0, ymax=50,color='dimgrey', linewidth=0.5,linestyle='-.');\n",
    "plt.text(0.4,40,\"[1]\",rotation=0,color='black',fontsize = 13,verticalalignment='center',horizontalalignment='center');\n",
    "\n",
    "plt.vlines(x=11, ymin=0, ymax=100,color='dimgrey', linewidth=0.5,linestyle='-.');\n",
    "plt.text(11.4,90,\"[2]\",rotation=0,color='black',fontsize = 13,verticalalignment='center',horizontalalignment='center');\n",
    "\n",
    "plt.vlines(x=18, ymin=0, ymax=370,color='dimgrey', linewidth=0.5,linestyle='-.');\n",
    "plt.text(18.4,360,\"[3]\",rotation=0,color='black',fontsize = 13,verticalalignment='center',horizontalalignment='center');\n",
    "\n",
    "plt.vlines(x=25, ymin=0, ymax=1750,color='dimgrey', linewidth=0.5,linestyle='-.');\n",
    "plt.text(25.5,1740,\"[4]\",rotation=0,color='black',fontsize = 13,verticalalignment='center',horizontalalignment='center');\n",
    "\n",
    "plt.ylabel('# COVID cases',fontsize=15);\n",
    "plt.xticks(xdata_full, dates, rotation=45,fontsize=12)  \n",
    "plt.yticks(fontsize=12)\n",
    "plt.xlabel('Dates (2020)',fontsize=15)\n",
    "plt.legend(handles=legend_elements,fontsize=15,loc='upper left')\n",
    "plt.suptitle(\"COVID dynamics for Maryland\",fontsize=20);\n",
    "plt.title(sub, fontsize=13);"
   ]
  },
  {
   "cell_type": "code",
   "execution_count": 21,
   "metadata": {
    "collapsed": false
   },
   "outputs": [
    {
     "data": {
      "image/png": "[encoded data removed]",
      "text/plain": [
       "<Figure size 1152x720 with 2 Axes>"
      ]
     },
     "metadata": {},
     "output_type": "display_data"
    }
   ],
   "source": [
    "fig = plt.figure(figsize=(16,10))\n",
    "fig.suptitle('Crude CFR (Case Fatality Rate) for Maryland',fontsize=17)\n",
    "\n",
    "ax = fig.add_subplot(221)\n",
    "legend_elements =  [Line2D([0], [0], marker='+', color='seagreen', label=\"%(Hospitalizations/positive cases)\", markersize=15)]\n",
    "plt.plot(h_p.index,h_p[\"Percent\"],'o-',color='seagreen');  \n",
    "plt.ylabel('% Hospitalizations/positive cases',fontsize=15);\n",
    "frequency=5\n",
    "plt.xticks(xdata_full[:-1:frequency], dates[:-1:frequency], rotation=45,fontsize=12)  \n",
    "plt.yticks(fontsize=12)\n",
    "plt.xlabel('Dates (2020)',fontsize=15)\n",
    "plt.legend(handles=legend_elements,fontsize=15,loc='upper left')\n",
    "\n",
    "ax = fig.add_subplot(222)\n",
    "legend_elements =  [Line2D([0], [0], marker='+', color='mediumorchid', label=\"% Crude CFR\", markersize=15)]\n",
    "plt.plot(h_d.index,h_d[\"Percent\"],'o-',color='mediumorchid');   \n",
    "plt.ylabel('% Crude CFR',fontsize=15);\n",
    "frequency=5\n",
    "plt.xticks(xdata_full[:-1:frequency], dates[:-1:frequency], rotation=45,fontsize=12)  \n",
    "plt.yticks(fontsize=12)\n",
    "plt.xlabel('Dates (2020)',fontsize=15)\n",
    "plt.legend(handles=legend_elements,fontsize=15,loc='upper left')\n",
    "\n",
    "plt.show()\n",
    "        "
   ]
  },
  {
   "cell_type": "code",
   "execution_count": 22,
   "metadata": {
    "collapsed": false
   },
   "outputs": [],
   "source": [
    "md_p_d=pd.DataFrame(index=md_d_today.index[1:],columns=['CFR'])\n",
    "for county in md_d_today.index[1:]:\n",
    "    c_d=md_d_today.loc[county]\n",
    "    c_p=md_p_today.loc[county]\n",
    "    if (c_d>1) or (c_p>20):\n",
    "        p_d=md_d_today.loc[county]/md_p_today.loc[county]*100\n",
    "        md_p_d.loc[county,'CFR']=p_d\n",
    "    else:\n",
    "        md_p_d.loc[county,'CFR']=-1\n",
    "md_p_d.sort_values(by=\"CFR\",inplace=True)\n",
    "md_p_d = md_p_d[md_p_d[\"CFR\"]>=0]"
   ]
  },
  {
   "cell_type": "code",
   "execution_count": 57,
   "metadata": {
    "collapsed": false
   },
   "outputs": [
    {
     "data": {
      "text/plain": [
       "Text(0.5, 1.0, 'Current Crude CFR (case fatality rate) for Maryland counties')"
      ]
     },
     "execution_count": 57,
     "metadata": {},
     "output_type": "execute_result"
    },
    {
     "data": {
      "image/png": "[encoded data removed]",
      "text/plain": [
       "<Figure size 936x576 with 1 Axes>"
      ]
     },
     "metadata": {},
     "output_type": "display_data"
    }
   ],
   "source": [
    "cfr_county=md_p_d[\"CFR\"].values\n",
    "plt.figure(figsize=(13,8));\n",
    "plt.bar(range(md_p_d.shape[0]),cfr_county,color='palevioletred')\n",
    "plt.ylabel(\"Crude CFR\",fontsize=14)\n",
    "plt.yticks(fontsize=12)\n",
    "plt.axhline(y=h_d.iloc[-1][\"Percent\"],color='black', linewidth=0.5,linestyle='-.');\n",
    "plt.text(0.2,h_d.iloc[-1][\"Percent\"]+0.2,\"CFR for Maryland\",rotation=0,color='black',fontsize = 13,verticalalignment='center',horizontalalignment='center')\n",
    "plt.xticks(range(md_p_d.shape[0]),md_p_d.index, rotation=90,fontsize=14);\n",
    "plt.title(\"Current Crude CFR (case fatality rate) for Maryland counties\",fontsize=16)"
   ]
  },
  {
   "cell_type": "code",
   "execution_count": 44,
   "metadata": {
    "collapsed": false
   },
   "outputs": [],
   "source": [
    "md_p_today=md_county.iloc[-1]\n",
    "md_p_pop=pd.DataFrame(index=md_pop.index[0:-6],columns=[\"positive\",\"pop\",\"fraction\"])\n",
    "for county in md_pop.index[0:-6]:\n",
    "    county_p = md_p_today.loc[county]\n",
    "    county_pop=md_pop.loc[county][\"Population_2019\"]\n",
    "    md_p_pop.loc[county][\"positive\"]=county_p\n",
    "    md_p_pop.loc[county,\"pop\"]=county_pop\n",
    "    md_p_pop.loc[county,\"fraction\"] = round(county_p/county_pop*100,4)"
   ]
  },
  {
   "cell_type": "code",
   "execution_count": 54,
   "metadata": {
    "collapsed": false
   },
   "outputs": [
    {
     "data": {
      "text/html": [
       "<div>\n",
       "<style scoped>\n",
       "    .dataframe tbody tr th:only-of-type {\n",
       "        vertical-align: middle;\n",
       "    }\n",
       "\n",
       "    .dataframe tbody tr th {\n",
       "        vertical-align: top;\n",
       "    }\n",
       "\n",
       "    .dataframe thead th {\n",
       "        text-align: right;\n",
       "    }\n",
       "</style>\n",
       "<table border=\"1\" class=\"dataframe\">\n",
       "  <thead>\n",
       "    <tr style=\"text-align: right;\">\n",
       "      <th></th>\n",
       "      <th>positive</th>\n",
       "      <th>pop</th>\n",
       "      <th>fraction</th>\n",
       "    </tr>\n",
       "    <tr>\n",
       "      <th>Attribute</th>\n",
       "      <th></th>\n",
       "      <th></th>\n",
       "      <th></th>\n",
       "    </tr>\n",
       "  </thead>\n",
       "  <tbody>\n",
       "    <tr>\n",
       "      <th>Allegany</th>\n",
       "      <td>20</td>\n",
       "      <td>70416</td>\n",
       "      <td>0.0284</td>\n",
       "    </tr>\n",
       "    <tr>\n",
       "      <th>Anne Arundel</th>\n",
       "      <td>896</td>\n",
       "      <td>579234</td>\n",
       "      <td>0.1547</td>\n",
       "    </tr>\n",
       "    <tr>\n",
       "      <th>Baltimore City</th>\n",
       "      <td>1160</td>\n",
       "      <td>593490</td>\n",
       "      <td>0.1955</td>\n",
       "    </tr>\n",
       "    <tr>\n",
       "      <th>Baltimore County</th>\n",
       "      <td>1516</td>\n",
       "      <td>827370</td>\n",
       "      <td>0.1832</td>\n",
       "    </tr>\n",
       "    <tr>\n",
       "      <th>Calvert</th>\n",
       "      <td>103</td>\n",
       "      <td>92525</td>\n",
       "      <td>0.1113</td>\n",
       "    </tr>\n",
       "    <tr>\n",
       "      <th>Caroline</th>\n",
       "      <td>23</td>\n",
       "      <td>33406</td>\n",
       "      <td>0.0688</td>\n",
       "    </tr>\n",
       "    <tr>\n",
       "      <th>Carroll</th>\n",
       "      <td>283</td>\n",
       "      <td>168447</td>\n",
       "      <td>0.168</td>\n",
       "    </tr>\n",
       "    <tr>\n",
       "      <th>Cecil</th>\n",
       "      <td>101</td>\n",
       "      <td>102855</td>\n",
       "      <td>0.0982</td>\n",
       "    </tr>\n",
       "    <tr>\n",
       "      <th>Charles</th>\n",
       "      <td>327</td>\n",
       "      <td>163257</td>\n",
       "      <td>0.2003</td>\n",
       "    </tr>\n",
       "    <tr>\n",
       "      <th>Dorchester</th>\n",
       "      <td>18</td>\n",
       "      <td>31929</td>\n",
       "      <td>0.0564</td>\n",
       "    </tr>\n",
       "    <tr>\n",
       "      <th>Frederick</th>\n",
       "      <td>497</td>\n",
       "      <td>259547</td>\n",
       "      <td>0.1915</td>\n",
       "    </tr>\n",
       "    <tr>\n",
       "      <th>Garrett</th>\n",
       "      <td>4</td>\n",
       "      <td>29014</td>\n",
       "      <td>0.0138</td>\n",
       "    </tr>\n",
       "    <tr>\n",
       "      <th>Harford</th>\n",
       "      <td>161</td>\n",
       "      <td>255441</td>\n",
       "      <td>0.063</td>\n",
       "    </tr>\n",
       "    <tr>\n",
       "      <th>Howard</th>\n",
       "      <td>451</td>\n",
       "      <td>325690</td>\n",
       "      <td>0.1385</td>\n",
       "    </tr>\n",
       "    <tr>\n",
       "      <th>Kent</th>\n",
       "      <td>11</td>\n",
       "      <td>19422</td>\n",
       "      <td>0.0566</td>\n",
       "    </tr>\n",
       "    <tr>\n",
       "      <th>Montgomery</th>\n",
       "      <td>2133</td>\n",
       "      <td>1050688</td>\n",
       "      <td>0.203</td>\n",
       "    </tr>\n",
       "    <tr>\n",
       "      <th>Prince Georges</th>\n",
       "      <td>2722</td>\n",
       "      <td>909327</td>\n",
       "      <td>0.2993</td>\n",
       "    </tr>\n",
       "    <tr>\n",
       "      <th>Queen Anne's</th>\n",
       "      <td>19</td>\n",
       "      <td>50381</td>\n",
       "      <td>0.0377</td>\n",
       "    </tr>\n",
       "    <tr>\n",
       "      <th>St. Mary's</th>\n",
       "      <td>98</td>\n",
       "      <td>113510</td>\n",
       "      <td>0.0863</td>\n",
       "    </tr>\n",
       "    <tr>\n",
       "      <th>Somerset</th>\n",
       "      <td>6</td>\n",
       "      <td>25616</td>\n",
       "      <td>0.0234</td>\n",
       "    </tr>\n",
       "    <tr>\n",
       "      <th>Talbot</th>\n",
       "      <td>14</td>\n",
       "      <td>37181</td>\n",
       "      <td>0.0377</td>\n",
       "    </tr>\n",
       "    <tr>\n",
       "      <th>Washington</th>\n",
       "      <td>109</td>\n",
       "      <td>151049</td>\n",
       "      <td>0.0722</td>\n",
       "    </tr>\n",
       "    <tr>\n",
       "      <th>Wicomico</th>\n",
       "      <td>87</td>\n",
       "      <td>103609</td>\n",
       "      <td>0.084</td>\n",
       "    </tr>\n",
       "    <tr>\n",
       "      <th>Worcester</th>\n",
       "      <td>25</td>\n",
       "      <td>52276</td>\n",
       "      <td>0.0478</td>\n",
       "    </tr>\n",
       "    <tr>\n",
       "      <th>Total</th>\n",
       "      <td>10784</td>\n",
       "      <td>6045680</td>\n",
       "      <td>0.1784</td>\n",
       "    </tr>\n",
       "  </tbody>\n",
       "</table>\n",
       "</div>"
      ],
      "text/plain": [
       "                 positive      pop fraction\n",
       "Attribute                                  \n",
       "Allegany               20    70416   0.0284\n",
       "Anne Arundel          896   579234   0.1547\n",
       "Baltimore City       1160   593490   0.1955\n",
       "Baltimore County     1516   827370   0.1832\n",
       "Calvert               103    92525   0.1113\n",
       "Caroline               23    33406   0.0688\n",
       "Carroll               283   168447    0.168\n",
       "Cecil                 101   102855   0.0982\n",
       "Charles               327   163257   0.2003\n",
       "Dorchester             18    31929   0.0564\n",
       "Frederick             497   259547   0.1915\n",
       "Garrett                 4    29014   0.0138\n",
       "Harford               161   255441    0.063\n",
       "Howard                451   325690   0.1385\n",
       "Kent                   11    19422   0.0566\n",
       "Montgomery           2133  1050688    0.203\n",
       "Prince Georges       2722   909327   0.2993\n",
       "Queen Anne's           19    50381   0.0377\n",
       "St. Mary's             98   113510   0.0863\n",
       "Somerset                6    25616   0.0234\n",
       "Talbot                 14    37181   0.0377\n",
       "Washington            109   151049   0.0722\n",
       "Wicomico               87   103609    0.084\n",
       "Worcester              25    52276   0.0478\n",
       "Total               10784  6045680   0.1784"
      ]
     },
     "execution_count": 54,
     "metadata": {},
     "output_type": "execute_result"
    }
   ],
   "source": [
    "md_p_pop"
   ]
  },
  {
   "cell_type": "code",
   "execution_count": 55,
   "metadata": {
    "collapsed": false
   },
   "outputs": [
    {
     "name": "stderr",
     "output_type": "stream",
     "text": [
      "/Users/annakonstorum/anaconda/lib/python3.6/site-packages/ipykernel/__main__.py:2: SettingWithCopyWarning: \n",
      "A value is trying to be set on a copy of a slice from a DataFrame\n",
      "\n",
      "See the caveats in the documentation: http://pandas.pydata.org/pandas-docs/stable/indexing.html#indexing-view-versus-copy\n",
      "  from ipykernel import kernelapp as app\n"
     ]
    },
    {
     "data": {
      "text/plain": [
       "Text(0.5, 1.0, 'Positive population % for Maryland counties')"
      ]
     },
     "execution_count": 55,
     "metadata": {},
     "output_type": "execute_result"
    },
    {
     "data": {
      "image/png": "[encoded data removed]",
      "text/plain": [
       "<Figure size 936x576 with 1 Axes>"
      ]
     },
     "metadata": {},
     "output_type": "display_data"
    }
   ],
   "source": [
    "county_frac=md_p_pop.iloc[0:-1]\n",
    "county_frac.sort_values(by=\"fraction\",inplace=True)\n",
    "frac_county=county_frac[\"fraction\"].values\n",
    "plt.figure(figsize=(13,8));\n",
    "plt.bar(range(county_frac.shape[0]),frac_county,color='sandybrown')\n",
    "plt.ylabel(\"% positive to population\",fontsize=14)\n",
    "plt.yticks(fontsize=12)\n",
    "plt.axhline(y=md_p_pop.loc[\"Total\"][\"fraction\"],color='black', linewidth=0.5,linestyle='-.');\n",
    "plt.text(1,md_p_pop.loc[\"Total\"][\"fraction\"]+0.01,\"% positive for Maryland\",rotation=0,color='black',fontsize = 13,verticalalignment='center',horizontalalignment='center')\n",
    "plt.xticks(range(county_frac.shape[0]),county_frac.index, rotation=90,fontsize=14);\n",
    "plt.title(\"Positive population % for Maryland counties\",fontsize=16)"
   ]
  },
  {
   "cell_type": "markdown",
   "metadata": {},
   "source": [
    "### Dynamics for two counties: Montgomery and Prince George's"
   ]
  },
  {
   "cell_type": "code",
   "execution_count": null,
   "metadata": {
    "collapsed": false
   },
   "outputs": [],
   "source": [
    "poptM = model_results.loc[\"Montgomery\"][0:3]\n",
    "poptP = model_results.loc[\"Prince Georges\"][0:3]\n",
    "\n",
    "func_useM, opt_modelM = function_use(\"Montgomery\",model_results)\n",
    "func_useP, opt_modelP = function_use(\"Prince Georges\",model_results)\n",
    "\n",
    "if opt_modelM==\"Linear\":\n",
    "    next_day_casesM = func_useM(next_day, poptM[0], poptM[1])\n",
    "    next2_day_casesM = func_useM(next2_day, poptM[0], poptM[1])\n",
    "    next3_day_casesM = func_useM(next3_day, poptM[0], poptM[1])\n",
    "\n",
    "else:    \n",
    "    next_day_casesM = func_useM(next_day, poptM[0], poptM[1], poptM[2])\n",
    "    next2_day_casesM = func_useM(next2_day, poptM[0], poptM[1], poptM[2])\n",
    "    next3_day_casesM = func_useM(next3_day, poptM[0], poptM[1], poptM[2])\n",
    "\n",
    "\n",
    "if opt_modelP==\"Linear\":\n",
    "    next_day_casesP = func_useP(next_day, poptP[0], poptP[1])\n",
    "    next2_day_casesP = func_useP(next2_day, poptP[0], poptP[1])\n",
    "    next3_day_casesP = func_useP(next3_day, poptP[0], poptP[1])\n",
    "\n",
    "else:\n",
    "    next_day_casesP = func_useP(next_day, poptP[0], poptP[1], poptP[2])\n",
    "    next2_day_casesP = func_useP(next2_day, poptP[0], poptP[1], poptP[2])\n",
    "    next3_day_casesP = func_useP(next3_day, poptP[0], poptP[1], poptP[2])\n",
    "\n",
    "locM = \"Montgomery County\"\n",
    "locP = \"Prince George's County\"\n",
    "model = \"Best fit model: {}\"\n",
    "pred_text=\"Prediction for total cases:\"\n",
    "next_pred='\\t{}: {}';"
   ]
  },
  {
   "cell_type": "code",
   "execution_count": null,
   "metadata": {
    "collapsed": false
   },
   "outputs": [],
   "source": [
    "# Create legend\n",
    "legend_elements =  [Line2D([0], [0], marker='+', color='maroon', label=locM, markersize=15),\n",
    "                    Line2D([0], [0], marker='', color='black',linestyle='', label=model.format(opt_modelM), markersize=15),\n",
    "                    Line2D([1], [0], marker='', color='black',linestyle='', label=pred_text, markersize=1),\n",
    "                    Line2D([1], [0], marker='', color='black',linestyle='', label=next_pred.format(tomorrow_label,int(next_day_casesM)), markersize=1),\n",
    "                    Line2D([0], [0], marker='', color='black',linestyle='', label=next_pred.format(next2_label,int(next2_day_casesM)), markersize=15),\n",
    "                    Line2D([0], [0], marker='', color='black',linestyle='', label=next_pred.format(next3_label,int(next3_day_casesM)), markersize=15),\n",
    "                    Line2D([0], [0], marker='+', color='orange', label=locP, markersize=15),\n",
    "                    Line2D([0], [0], marker='', color='black',linestyle='', label=model.format(opt_modelP), markersize=15),\n",
    "                    Line2D([1], [0], marker='', color='black',linestyle='', label=pred_text, markersize=1),\n",
    "                    Line2D([1], [0], marker='', color='black',linestyle='', label=next_pred.format(tomorrow_label,int(next_day_casesP)), markersize=1),\n",
    "                    Line2D([0], [0], marker='', color='black',linestyle='', label=next_pred.format(next2_label,int(next2_day_casesP)), markersize=15),\n",
    "                    Line2D([0], [0], marker='', color='black',linestyle='', label=next_pred.format(next3_label,int(next3_day_casesP)), markersize=15)]\n",
    "\n",
    "plt.figure(figsize=(15,10));\n",
    "\n",
    "if opt_modelM=='Linear':\n",
    "    poptM=poptM[0:2]\n",
    "if opt_modelP==\"Linear\":\n",
    "    poptP=poptP[0:2]\n",
    "\n",
    "plt.plot(xdata_pred, func_useM(xdata_pred, *poptM), color='grey',linestyle='--')\n",
    "plt.scatter(md_county.index,md_county['Montgomery'],color='maroon',marker='+')\n",
    "\n",
    "plt.plot(xdata_pred, func_useP(xdata_pred, *poptP), color='grey',linestyle='--')\n",
    "plt.scatter(md_county.index,md_county['Prince Georges'],color='orange',marker='+')\n",
    "\n",
    "# extra info\n",
    "plt.vlines(x=0, ymin=0, ymax=50,color='dimgrey', linewidth=0.5,linestyle='-.');\n",
    "plt.text(0.4,45,\"[1]\",rotation=0,color='black',fontsize = 14,verticalalignment='center',horizontalalignment='center');\n",
    "\n",
    "plt.vlines(x=11, ymin=0, ymax=70,color='dimgrey', linewidth=0.5,linestyle='-.');\n",
    "plt.text(11.4,65,\"[2]\",rotation=0,color='black',fontsize = 14,verticalalignment='center',horizontalalignment='center');\n",
    "\n",
    "plt.vlines(x=18, ymin=0, ymax=125,color='dimgrey', linewidth=0.5,linestyle='-.');\n",
    "plt.text(18.4,120,\"[3]\",rotation=0,color='black',fontsize = 14,verticalalignment='center',horizontalalignment='center');\n",
    "\n",
    "plt.vlines(x=25, ymin=0, ymax=400,color='dimgrey', linewidth=0.5,linestyle='-.');\n",
    "plt.text(25.4,395,\"[4]\",rotation=0,color='black',fontsize = 13,verticalalignment='center',horizontalalignment='center');\n",
    "\n",
    "plt.ylabel('# COVID cases',fontsize=15);\n",
    "plt.xticks(xdata_full, dates, rotation=45,fontsize=12)  \n",
    "plt.yticks(fontsize=12)\n",
    "plt.xlabel('Dates (2020)',fontsize=15)\n",
    "plt.legend(handles=legend_elements,fontsize=15,loc='upper left')\n",
    "plt.suptitle(\"COVID dynamics for two Maryland counties: Montgomery and Prince George's\",fontsize=20); \n",
    "plt.title(sub, fontsize=13);"
   ]
  },
  {
   "cell_type": "markdown",
   "metadata": {},
   "source": [
    "### Dynamics for two counties: Howard and Anne Arundel"
   ]
  },
  {
   "cell_type": "code",
   "execution_count": null,
   "metadata": {
    "collapsed": true
   },
   "outputs": [],
   "source": [
    "poptH = model_results.loc[\"Howard\"][0:3]\n",
    "poptA = model_results.loc[\"Anne Arundel\"][0:3]\n",
    "\n",
    "func_useH, opt_modelH = function_use(\"Howard\",model_results)\n",
    "func_useA, opt_modelA = function_use(\"Anne Arundel\",model_results)\n",
    "\n",
    "if opt_modelH==\"Linear\":\n",
    "    next_day_casesH = func_useH(next_day, poptH[0], poptH[1])\n",
    "    next2_day_casesH = func_useH(next2_day, poptH[0], poptH[1])\n",
    "    next3_day_casesH = func_useH(next3_day, poptH[0], poptH[1])\n",
    "else:\n",
    "    next_day_casesH = func_useH(next_day, poptH[0], poptH[1], poptH[2])\n",
    "    next2_day_casesH = func_useH(next2_day, poptH[0], poptH[1], poptH[2])\n",
    "    next3_day_casesH = func_useH(next3_day, poptH[0], poptH[1], poptH[2])\n",
    "\n",
    "\n",
    "if opt_modelA==\"Linear\":\n",
    "    next_day_casesA = func_useA(next_day, poptA[0], poptA[1])\n",
    "    next2_day_casesA = func_useA(next2_day, poptA[0], poptA[1])\n",
    "    next3_day_casesA = func_useA(next3_day, poptA[0], poptA[1])\n",
    "\n",
    "else:\n",
    "    next_day_casesA = func_useA(next_day, poptA[0], poptA[1], poptA[2])\n",
    "    next2_day_casesA = func_useA(next2_day, poptA[0], poptA[1], poptA[2])\n",
    "    next3_day_casesA = func_useA(next3_day, poptA[0], poptA[1], poptA[2])\n",
    "\n",
    "locH = \"Howard County\"\n",
    "locA = \"Anne Arundel County\"\n",
    "model = \"Best fit model: {}\"\n",
    "pred_text=\"Prediction for total cases:\"\n",
    "next_pred='\\t{}: {}';"
   ]
  },
  {
   "cell_type": "code",
   "execution_count": null,
   "metadata": {
    "collapsed": false
   },
   "outputs": [],
   "source": [
    "# Create legend\n",
    "legend_elements =  [Line2D([0], [0], marker='+', color='yellow', label=locH, markersize=15),\n",
    "                    Line2D([0], [0], marker='', color='black',linestyle='', label=model.format(opt_modelH), markersize=15),\n",
    "                    Line2D([1], [0], marker='', color='black',linestyle='', label=pred_text, markersize=1),\n",
    "                    Line2D([1], [0], marker='', color='black',linestyle='', label=next_pred.format(tomorrow_label,int(next_day_casesH)), markersize=1),\n",
    "                    Line2D([0], [0], marker='', color='black',linestyle='', label=next_pred.format(next2_label,int(next2_day_casesH)), markersize=15),\n",
    "                    Line2D([0], [0], marker='', color='black',linestyle='', label=next_pred.format(next3_label,int(next3_day_casesH)), markersize=15),\n",
    "                    Line2D([0], [0], marker='', color='black',linestyle='', label='', markersize=15),\n",
    "                    Line2D([0], [0], marker='+', color='slateblue', label=locA, markersize=15),\n",
    "                    Line2D([0], [0], marker='', color='black',linestyle='', label=model.format(opt_modelA), markersize=15),\n",
    "                    Line2D([1], [0], marker='', color='black',linestyle='', label=pred_text, markersize=1),\n",
    "                    Line2D([1], [0], marker='', color='black',linestyle='', label=next_pred.format(tomorrow_label,int(next_day_casesA)), markersize=1),\n",
    "                    Line2D([0], [0], marker='', color='black',linestyle='', label=next_pred.format(next2_label,int(next2_day_casesA)), markersize=15),\n",
    "                    Line2D([0], [0], marker='', color='black',linestyle='', label=next_pred.format(next3_label,int(next3_day_casesA)), markersize=15)]\n",
    "\n",
    "if opt_modelH=='Linear':\n",
    "    poptH=poptH[0:2]\n",
    "if opt_modelA==\"Linear\":\n",
    "    poptA=poptA[0:2]\n",
    "\n",
    "plt.figure(figsize=(15,10));\n",
    "\n",
    "plt.plot(xdata_pred, func_useH(xdata_pred, *poptH), color='grey',linestyle='--')\n",
    "plt.scatter(md_county.index,md_county['Howard'],color='yellow',marker='+')\n",
    "\n",
    "plt.plot(xdata_pred, func_useA(xdata_pred, *poptA), color='grey',linestyle='--')\n",
    "plt.scatter(md_county.index,md_county['Anne Arundel'],color='slateblue',marker='+')\n",
    "\n",
    "# extra info\n",
    "plt.vlines(x=0, ymin=0, ymax=20,color='dimgrey', linewidth=0.5,linestyle='-.');\n",
    "plt.text(0.4,15,\"[1]\",rotation=0,color='black',fontsize = 14,verticalalignment='center',horizontalalignment='center');\n",
    "\n",
    "plt.vlines(x=11, ymin=0, ymax=20,color='dimgrey', linewidth=0.5,linestyle='-.');\n",
    "plt.text(11.4,15,\"[2]\",rotation=0,color='black',fontsize = 14,verticalalignment='center',horizontalalignment='center');\n",
    "\n",
    "plt.vlines(x=18, ymin=0, ymax=40,color='dimgrey', linewidth=0.5,linestyle='-.');\n",
    "plt.text(18.4,35,\"[3]\",rotation=0,color='black',fontsize = 14,verticalalignment='center',horizontalalignment='center');\n",
    "\n",
    "plt.vlines(x=25, ymin=0, ymax=150,color='dimgrey', linewidth=0.5,linestyle='-.');\n",
    "plt.text(25.4,145,\"[4]\",rotation=0,color='black',fontsize = 13,verticalalignment='center',horizontalalignment='center');\n",
    "\n",
    "plt.ylabel('# COVID cases',fontsize=12);\n",
    "plt.xticks(xdata_full, dates, rotation=45,fontsize=12)  \n",
    "plt.yticks(fontsize=12)\n",
    "plt.xlabel('Dates (2020)',fontsize=13)\n",
    "plt.legend(handles=legend_elements,fontsize=15,loc='upper left')\n",
    "plt.suptitle(\"COVID dynamics for two Maryland counties: Howard and Anne Arundel\",fontsize=20);   \n",
    "plt.title(sub, fontsize=13);"
   ]
  },
  {
   "cell_type": "code",
   "execution_count": null,
   "metadata": {
    "collapsed": true
   },
   "outputs": [],
   "source": [
    "poptB1 = popt_state = model_results.loc[\"Baltimore City\"][0:3]\n",
    "poptB2 = popt_state = model_results.loc[\"Baltimore County\"][0:3]\n",
    "\n",
    "func_useB1, opt_modelB1 = function_use(\"Baltimore City\",model_results)\n",
    "func_useB2, opt_modelB2 = function_use(\"Baltimore County\",model_results)\n",
    "\n",
    "if opt_modelB1==\"Linear\":\n",
    "    next_day_casesB1 = func_useB1(next_day, poptB1[0], poptB1[1])\n",
    "    next2_day_casesB1 = func_useB1(next2_day, poptB1[0], poptB1[1])\n",
    "    next3_day_casesB1 = func_useB1(next3_day, poptB1[0], poptB1[1])\n",
    "    \n",
    "else:\n",
    "    next_day_casesB1 = func_useB1(next_day, poptB1[0], poptB1[1], poptB1[2])\n",
    "    next2_day_casesB1 = func_useB1(next2_day, poptB1[0], poptB1[1], poptB1[2])\n",
    "    next3_day_casesB1 = func_useB1(next3_day, poptB1[0], poptB1[1], poptB1[2])\n",
    "\n",
    "if opt_modelB2==\"Linear\":\n",
    "    next_day_casesB2 = func_useB2(next_day, poptB2[0], poptB2[1])\n",
    "    next2_day_casesB2 = func_useB2(next2_day, poptB2[0], poptB2[1])\n",
    "    next3_day_casesB2 = func_useB2(next3_day, poptB2[0], poptB2[1])\n",
    "\n",
    "else:\n",
    "    next_day_casesB2 = func_useB2(next_day, poptB2[0], poptB2[1], poptB2[2])\n",
    "    next2_day_casesB2 = func_useB2(next2_day, poptB2[0], poptB2[1], poptB2[2])\n",
    "    next3_day_casesB2 = func_useB2(next3_day, poptB2[0], poptB2[1], poptB2[2])\n",
    "\n",
    "\n",
    "locB1 = \"Baltimore City\"\n",
    "locB2 = \"Baltimore County\"\n",
    "model = \"Best fit model: {}\"\n",
    "pred_text=\"Prediction for total cases:\"\n",
    "next_pred='\\t{}: {}';"
   ]
  },
  {
   "cell_type": "code",
   "execution_count": null,
   "metadata": {
    "collapsed": false
   },
   "outputs": [],
   "source": [
    "# BALTIMORE\n",
    "# Create legend\n",
    "legend_elements =  [Line2D([0], [0], marker='+', color='maroon', label=locB1, markersize=15),\n",
    "                    Line2D([0], [0], marker='', color='black',linestyle='', label=model.format(opt_modelB1), markersize=15),\n",
    "                    Line2D([1], [0], marker='', color='black',linestyle='', label=pred_text, markersize=1),\n",
    "                    Line2D([1], [0], marker='', color='black',linestyle='', label=next_pred.format(tomorrow_label,int(next_day_casesB1)), markersize=1),\n",
    "                    Line2D([0], [0], marker='', color='black',linestyle='', label=next_pred.format(next2_label,int(next2_day_casesB1)), markersize=15),\n",
    "                    Line2D([0], [0], marker='', color='black',linestyle='', label=next_pred.format(next3_label,int(next3_day_casesB1)), markersize=15),\n",
    "                    Line2D([0], [0], marker='', color='black',linestyle='', label='', markersize=15),\n",
    "                    Line2D([0], [0], marker='+', color='orange', label=locB2, markersize=15),\n",
    "                    Line2D([0], [0], marker='', color='black',linestyle='', label=model.format(opt_modelB2), markersize=15),\n",
    "                    Line2D([1], [0], marker='', color='black',linestyle='', label=pred_text, markersize=1),\n",
    "                    Line2D([1], [0], marker='', color='black',linestyle='', label=next_pred.format(tomorrow_label,int(next_day_casesB2)), markersize=1),\n",
    "                    Line2D([0], [0], marker='', color='black',linestyle='', label=next_pred.format(next2_label,int(next2_day_casesB2)), markersize=15),\n",
    "                    Line2D([0], [0], marker='', color='black',linestyle='', label=next_pred.format(next3_label,int(next3_day_casesB2)), markersize=15)]\n",
    "\n",
    "\n",
    "plt.figure(figsize=(15,10));\n",
    "\n",
    "if opt_modelB1=='Linear':\n",
    "    poptB1=poptB1[0:2]\n",
    "if opt_modelB2==\"Linear\":\n",
    "    poptB2=poptB2[0:2]\n",
    "\n",
    "# Plot data + model\n",
    "# model\n",
    "\n",
    "plt.plot(xdata_pred, func_useB1(xdata_pred, *poptB1), color='grey',linestyle='--')\n",
    "# data\n",
    "plt.scatter(md_county.index,md_county['Baltimore City'],color='maroon',marker='+')\n",
    "\n",
    "plt.plot(xdata_pred, func_useB2(xdata_pred, *poptB2), color='grey',linestyle='--')\n",
    "plt.scatter(md_county.index,md_county['Baltimore County'],color='orange',marker='+')\n",
    "\n",
    "# extra info\n",
    "plt.vlines(x=0, ymin=0, ymax=20,color='dimgrey', linewidth=0.5,linestyle='-.');\n",
    "plt.text(0.4,20,\"[1]\",rotation=0,color='black',fontsize = 14,verticalalignment='center',horizontalalignment='center');\n",
    "\n",
    "plt.vlines(x=11, ymin=0, ymax=20,color='dimgrey', linewidth=0.5,linestyle='-.');\n",
    "plt.text(11.4,20,\"[2]\",rotation=0,color='black',fontsize = 14,verticalalignment='center',horizontalalignment='center');\n",
    "\n",
    "plt.vlines(x=18, ymin=0, ymax=45,color='dimgrey', linewidth=0.5,linestyle='-.');\n",
    "plt.text(18.4,45,\"[3]\",rotation=0,color='black',fontsize = 14,verticalalignment='center',horizontalalignment='center');\n",
    "\n",
    "plt.vlines(x=25, ymin=0, ymax=225,color='dimgrey', linewidth=0.5,linestyle='-.');\n",
    "plt.text(25.4,220,\"[4]\",rotation=0,color='black',fontsize = 13,verticalalignment='center',horizontalalignment='center');\n",
    "\n",
    "plt.ylabel('# COVID cases',fontsize=15);\n",
    "plt.xticks(xdata_full, dates, rotation=45,fontsize=12)  \n",
    "plt.yticks(fontsize=12)\n",
    "plt.xlabel('Dates (2020)',fontsize=15)\n",
    "plt.legend(handles=legend_elements,fontsize=15,loc='upper left')\n",
    "plt.suptitle(\"COVID dynamics for Baltimore City and County\",fontsize=20);\n",
    "plt.title(sub, fontsize=13);\n"
   ]
  },
  {
   "cell_type": "code",
   "execution_count": null,
   "metadata": {
    "collapsed": false
   },
   "outputs": [],
   "source": []
  },
  {
   "cell_type": "code",
   "execution_count": null,
   "metadata": {
    "collapsed": false
   },
   "outputs": [],
   "source": []
  },
  {
   "cell_type": "code",
   "execution_count": null,
   "metadata": {
    "collapsed": false
   },
   "outputs": [],
   "source": []
  },
  {
   "cell_type": "code",
   "execution_count": null,
   "metadata": {
    "collapsed": false
   },
   "outputs": [],
   "source": []
  },
  {
   "cell_type": "code",
   "execution_count": null,
   "metadata": {
    "collapsed": true
   },
   "outputs": [],
   "source": []
  }
 ],
 "metadata": {
  "kernelspec": {
   "display_name": "Python 3",
   "language": "python",
   "name": "python3"
  },
  "language_info": {
   "codemirror_mode": {
    "name": "ipython",
    "version": 3
   },
   "file_extension": ".py",
   "mimetype": "text/x-python",
   "name": "python",
   "nbconvert_exporter": "python",
   "pygments_lexer": "ipython3",
   "version": "3.6.8"
  },
  "varInspector": {
   "cols": {
    "lenName": 16,
    "lenType": 16,
    "lenVar": 40
   },
   "kernels_config": {
    "python": {
     "delete_cmd_postfix": "",
     "delete_cmd_prefix": "del ",
     "library": "var_list.py",
     "varRefreshCmd": "print(var_dic_list())"
    },
    "r": {
     "delete_cmd_postfix": ") ",
     "delete_cmd_prefix": "rm(",
     "library": "var_list.r",
     "varRefreshCmd": "cat(var_dic_list()) "
    }
   },
   "position": {
    "height": "144px",
    "left": "655.427px",
    "right": "20px",
    "top": "127.993px",
    "width": "350px"
   },
   "types_to_exclude": [
    "module",
    "function",
    "builtin_function_or_method",
    "instance",
    "_Feature"
   ],
   "window_display": true
  }
 },
 "nbformat": 4,
 "nbformat_minor": 2
}
