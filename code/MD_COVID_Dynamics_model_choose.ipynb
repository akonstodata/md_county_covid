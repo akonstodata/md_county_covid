{
 "cells": [
  {
   "cell_type": "markdown",
   "metadata": {},
   "source": [
    "### Modeling and visualizing dynamics of COVID cases in Maryland counties\n",
    "#### Anna Konstorum (konstorum.anna@gmail.com)"
   ]
  },
  {
   "cell_type": "code",
   "execution_count": 1,
   "metadata": {
    "collapsed": false
   },
   "outputs": [],
   "source": [
    "# import packages\n",
    "import datetime\n",
    "import os\n",
    "import matplotlib.pyplot as plt\n",
    "from scipy.optimize import curve_fit\n",
    "import seaborn as sns\n",
    "import pandas as pd\n",
    "import numpy as np\n",
    "import seaborn as sns\n",
    "import html5lib\n",
    "from matplotlib.lines import Line2D\n",
    "%matplotlib inline"
   ]
  },
  {
   "cell_type": "code",
   "execution_count": 2,
   "metadata": {
    "collapsed": false,
    "scrolled": true
   },
   "outputs": [
    {
     "name": "stdout",
     "output_type": "stream",
     "text": [
      "Last updated: 2020-04-26\n"
     ]
    }
   ],
   "source": [
    "print(f'Last updated: {datetime.date.today()}')"
   ]
  },
  {
   "cell_type": "code",
   "execution_count": 3,
   "metadata": {
    "collapsed": true
   },
   "outputs": [],
   "source": [
    "# change to local directory to save files\n",
    "os.chdir('/Users/annakonstorum/Google Drive/Covid_model_v2/results')"
   ]
  },
  {
   "cell_type": "code",
   "execution_count": 4,
   "metadata": {
    "collapsed": false
   },
   "outputs": [],
   "source": [
    "# import latest MD county counts\n",
    "url='https://raw.githubusercontent.com/akonstodata/md_county_covid/master/data/MD_county_covid.csv'\n",
    "md_county=pd.read_csv(url,sep=',',header='infer', parse_dates=[1],index_col=0)\n",
    "md_p_today=md_county.iloc[-1]\n",
    "md_p_today=md_p_today[0:-8]"
   ]
  },
  {
   "cell_type": "code",
   "execution_count": 5,
   "metadata": {
    "collapsed": false
   },
   "outputs": [],
   "source": [
    "# import additional data\n",
    "\n",
    "# hospitalization and deaths counts for Maryland\n",
    "url='https://raw.githubusercontent.com/akonstodata/md_county_covid/master/data/MD_covid_H.csv'\n",
    "md_xtra=pd.read_csv(url,sep=',',header='infer', parse_dates=[1],index_col=0)\n",
    "\n",
    "# deaths counts for all counties\n",
    "url='https://raw.githubusercontent.com/akonstodata/md_county_covid/master/data/MD_covid_D.csv'\n",
    "md_d=pd.read_csv(url,sep=',',header='infer', parse_dates=[1],index_col=0)\n",
    "md_d_today=md_d.iloc[-1]\n",
    "md_d_today=md_d_today.iloc[0:-8]\n",
    "\n",
    "# maryland population demographics\n",
    "url='https://raw.githubusercontent.com/akonstodata/md_county_covid/master/data/MD_2019_pop.csv'\n",
    "md_pop=pd.read_csv(url,sep=',',header='infer',index_col=0)"
   ]
  },
  {
   "cell_type": "code",
   "execution_count": 6,
   "metadata": {
    "collapsed": false
   },
   "outputs": [
    {
     "data": {
      "text/html": [
       "<div>\n",
       "<style scoped>\n",
       "    .dataframe tbody tr th:only-of-type {\n",
       "        vertical-align: middle;\n",
       "    }\n",
       "\n",
       "    .dataframe tbody tr th {\n",
       "        vertical-align: top;\n",
       "    }\n",
       "\n",
       "    .dataframe thead th {\n",
       "        text-align: right;\n",
       "    }\n",
       "</style>\n",
       "<table border=\"1\" class=\"dataframe\">\n",
       "  <thead>\n",
       "    <tr style=\"text-align: right;\">\n",
       "      <th></th>\n",
       "      <th>Date</th>\n",
       "      <th>Allegany</th>\n",
       "      <th>Anne Arundel</th>\n",
       "      <th>Baltimore City</th>\n",
       "      <th>Baltimore County</th>\n",
       "      <th>Calvert</th>\n",
       "      <th>Caroline</th>\n",
       "      <th>Carroll</th>\n",
       "      <th>Cecil</th>\n",
       "      <th>Charles</th>\n",
       "      <th>...</th>\n",
       "      <th>Worcester</th>\n",
       "      <th>Total</th>\n",
       "      <th>Female</th>\n",
       "      <th>Male</th>\n",
       "      <th>AA</th>\n",
       "      <th>Asian</th>\n",
       "      <th>White</th>\n",
       "      <th>Hispanic</th>\n",
       "      <th>Other</th>\n",
       "      <th>Data not available</th>\n",
       "    </tr>\n",
       "  </thead>\n",
       "  <tbody>\n",
       "    <tr>\n",
       "      <th>48</th>\n",
       "      <td>2020-04-22</td>\n",
       "      <td>58</td>\n",
       "      <td>1190</td>\n",
       "      <td>1602</td>\n",
       "      <td>2012</td>\n",
       "      <td>118</td>\n",
       "      <td>41</td>\n",
       "      <td>344</td>\n",
       "      <td>134</td>\n",
       "      <td>427</td>\n",
       "      <td>...</td>\n",
       "      <td>34</td>\n",
       "      <td>14775</td>\n",
       "      <td>7954.0</td>\n",
       "      <td>6821.0</td>\n",
       "      <td>5540.0</td>\n",
       "      <td>304.0</td>\n",
       "      <td>3476.0</td>\n",
       "      <td>2033.0</td>\n",
       "      <td>571.0</td>\n",
       "      <td>2851.0</td>\n",
       "    </tr>\n",
       "    <tr>\n",
       "      <th>49</th>\n",
       "      <td>2020-04-23</td>\n",
       "      <td>77</td>\n",
       "      <td>1294</td>\n",
       "      <td>1672</td>\n",
       "      <td>2132</td>\n",
       "      <td>121</td>\n",
       "      <td>50</td>\n",
       "      <td>355</td>\n",
       "      <td>140</td>\n",
       "      <td>442</td>\n",
       "      <td>...</td>\n",
       "      <td>39</td>\n",
       "      <td>15737</td>\n",
       "      <td>8447.0</td>\n",
       "      <td>7290.0</td>\n",
       "      <td>5800.0</td>\n",
       "      <td>322.0</td>\n",
       "      <td>3662.0</td>\n",
       "      <td>2130.0</td>\n",
       "      <td>588.0</td>\n",
       "      <td>3235.0</td>\n",
       "    </tr>\n",
       "    <tr>\n",
       "      <th>50</th>\n",
       "      <td>2020-04-24</td>\n",
       "      <td>90</td>\n",
       "      <td>1373</td>\n",
       "      <td>1728</td>\n",
       "      <td>2234</td>\n",
       "      <td>125</td>\n",
       "      <td>55</td>\n",
       "      <td>372</td>\n",
       "      <td>144</td>\n",
       "      <td>459</td>\n",
       "      <td>...</td>\n",
       "      <td>44</td>\n",
       "      <td>16616</td>\n",
       "      <td>8874.0</td>\n",
       "      <td>7742.0</td>\n",
       "      <td>6046.0</td>\n",
       "      <td>339.0</td>\n",
       "      <td>3830.0</td>\n",
       "      <td>2373.0</td>\n",
       "      <td>616.0</td>\n",
       "      <td>3412.0</td>\n",
       "    </tr>\n",
       "    <tr>\n",
       "      <th>51</th>\n",
       "      <td>2020-04-25</td>\n",
       "      <td>105</td>\n",
       "      <td>1430</td>\n",
       "      <td>1791</td>\n",
       "      <td>2387</td>\n",
       "      <td>130</td>\n",
       "      <td>61</td>\n",
       "      <td>384</td>\n",
       "      <td>146</td>\n",
       "      <td>483</td>\n",
       "      <td>...</td>\n",
       "      <td>46</td>\n",
       "      <td>17766</td>\n",
       "      <td>9498.0</td>\n",
       "      <td>8268.0</td>\n",
       "      <td>6314.0</td>\n",
       "      <td>344.0</td>\n",
       "      <td>4020.0</td>\n",
       "      <td>2574.0</td>\n",
       "      <td>657.0</td>\n",
       "      <td>3857.0</td>\n",
       "    </tr>\n",
       "    <tr>\n",
       "      <th>52</th>\n",
       "      <td>2020-04-26</td>\n",
       "      <td>113</td>\n",
       "      <td>1510</td>\n",
       "      <td>1866</td>\n",
       "      <td>2509</td>\n",
       "      <td>134</td>\n",
       "      <td>63</td>\n",
       "      <td>391</td>\n",
       "      <td>154</td>\n",
       "      <td>504</td>\n",
       "      <td>...</td>\n",
       "      <td>48</td>\n",
       "      <td>18581</td>\n",
       "      <td>9963.0</td>\n",
       "      <td>8618.0</td>\n",
       "      <td>6742.0</td>\n",
       "      <td>363.0</td>\n",
       "      <td>4276.0</td>\n",
       "      <td>2841.0</td>\n",
       "      <td>707.0</td>\n",
       "      <td>3652.0</td>\n",
       "    </tr>\n",
       "  </tbody>\n",
       "</table>\n",
       "<p>5 rows × 34 columns</p>\n",
       "</div>"
      ],
      "text/plain": [
       "         Date  Allegany  Anne Arundel  Baltimore City  Baltimore County  \\\n",
       "48 2020-04-22        58          1190            1602              2012   \n",
       "49 2020-04-23        77          1294            1672              2132   \n",
       "50 2020-04-24        90          1373            1728              2234   \n",
       "51 2020-04-25       105          1430            1791              2387   \n",
       "52 2020-04-26       113          1510            1866              2509   \n",
       "\n",
       "    Calvert  Caroline  Carroll  Cecil  Charles         ...          Worcester  \\\n",
       "48      118        41      344    134      427         ...                 34   \n",
       "49      121        50      355    140      442         ...                 39   \n",
       "50      125        55      372    144      459         ...                 44   \n",
       "51      130        61      384    146      483         ...                 46   \n",
       "52      134        63      391    154      504         ...                 48   \n",
       "\n",
       "    Total  Female    Male      AA  Asian   White  Hispanic  Other  \\\n",
       "48  14775  7954.0  6821.0  5540.0  304.0  3476.0    2033.0  571.0   \n",
       "49  15737  8447.0  7290.0  5800.0  322.0  3662.0    2130.0  588.0   \n",
       "50  16616  8874.0  7742.0  6046.0  339.0  3830.0    2373.0  616.0   \n",
       "51  17766  9498.0  8268.0  6314.0  344.0  4020.0    2574.0  657.0   \n",
       "52  18581  9963.0  8618.0  6742.0  363.0  4276.0    2841.0  707.0   \n",
       "\n",
       "    Data not available  \n",
       "48              2851.0  \n",
       "49              3235.0  \n",
       "50              3412.0  \n",
       "51              3857.0  \n",
       "52              3652.0  \n",
       "\n",
       "[5 rows x 34 columns]"
      ]
     },
     "execution_count": 6,
     "metadata": {},
     "output_type": "execute_result"
    }
   ],
   "source": [
    "md_county.tail()"
   ]
  },
  {
   "cell_type": "code",
   "execution_count": 7,
   "metadata": {
    "collapsed": false
   },
   "outputs": [],
   "source": [
    "# create exponential function to model \n",
    "# will add additional functions shortly\n",
    "\n",
    "def exp_func(x, a, b, c):\n",
    "    return a * np.exp(b * x) + c\n",
    "\n",
    "def quad_func(x,a,b,c):\n",
    "    return a*x**2 +b*x+c\n",
    "\n",
    "def lin_func(x,a,b):\n",
    "    return a*x + b"
   ]
  },
  {
   "cell_type": "code",
   "execution_count": 8,
   "metadata": {
    "collapsed": true
   },
   "outputs": [],
   "source": [
    "def SSE_curve(x,y,fxn):\n",
    "    popt,pop = curve_fit(fxn,x,y)\n",
    "    y_exp= fxn(x, *popt)\n",
    "    SSE = sum((y-y_exp)**2)\n",
    "    return popt,SSE"
   ]
  },
  {
   "cell_type": "code",
   "execution_count": 9,
   "metadata": {
    "collapsed": false
   },
   "outputs": [
    {
     "name": "stdout",
     "output_type": "stream",
     "text": [
      "Data from 2020-03-05 to 2020-04-26\n"
     ]
    }
   ],
   "source": [
    "# date range of the graph\n",
    "start_date = min(md_county['Date'])\n",
    "end_date = max(md_county['Date'])\n",
    "next_date=end_date+datetime.timedelta(days=1)\n",
    "\n",
    "print(f'Data from {start_date.strftime(\"%Y-%m-%d\")} to {end_date.strftime(\"%Y-%m-%d\")}')"
   ]
  },
  {
   "cell_type": "code",
   "execution_count": 10,
   "metadata": {
    "collapsed": true
   },
   "outputs": [],
   "source": [
    "# Textual date for labels\n",
    "tomorrow_label = (end_date + datetime.timedelta(days=1)).strftime('%m/%d')\n",
    "next2_label = (end_date + datetime.timedelta(days=2)).strftime('%m/%d')\n",
    "next3_label = (end_date + datetime.timedelta(days=3)).strftime('%m/%d')\n",
    "\n",
    "# get current date range\n",
    "date_range=pd.date_range(start=start_date, end=end_date)\n",
    "date_range_plus=pd.date_range(start=start_date,end=next_date)\n",
    "\n",
    "\n",
    "# output date range as list\n",
    "dates = [date.strftime('%m/%d') for date in date_range_plus]"
   ]
  },
  {
   "cell_type": "code",
   "execution_count": 11,
   "metadata": {
    "collapsed": true
   },
   "outputs": [],
   "source": [
    "# Include all dates, even those with missing data\n",
    "xdata_full=np.array(range(len(dates)))\n",
    "xdata_pred=np.array(range(len(dates)))[-11:]\n",
    "xdata_hosp=np.array(range(len(dates)))[-11:]"
   ]
  },
  {
   "cell_type": "code",
   "execution_count": 12,
   "metadata": {
    "collapsed": false
   },
   "outputs": [],
   "source": [
    "# model fit for hosp\n",
    "model_hosp = pd.DataFrame(index=['hosp'],columns=['a','b','c','model'])\n",
    "model_hosp.fillna(0)\n",
    "\n",
    "xdata=np.array(md_xtra.index)[17:]\n",
    "ydata=np.array(md_xtra[\"Hospitalized\"])[17:]\n",
    "\n",
    "popt_quad,SSE_quad = SSE_curve(xdata,ydata,quad_func)\n",
    "popt_lin,SSE_lin = SSE_curve(xdata,ydata,lin_func)\n",
    "\n",
    "quad_lin_diff=(SSE_lin-SSE_quad)/SSE_lin*100\n",
    "    \n",
    "if quad_lin_diff<5:\n",
    "    no_quad=1\n",
    "else:\n",
    "    no_quad=0\n",
    "    \n",
    "try:\n",
    "    popt_exp, SSE_exp = SSE_curve(xdata,ydata,exp_func)\n",
    "    min_error=min(SSE_exp,SSE_quad,SSE_lin)\n",
    "except:    \n",
    "    min_error=min(SSE_quad,SSE_lin)\n",
    "\n",
    "if (min_error==SSE_quad) and (no_quad==1):\n",
    "    min_error=SSE_lin\n",
    "    \n",
    "if min_error == SSE_exp:\n",
    "    model_hosp.loc['hosp',['a','b','c']]=popt_exp\n",
    "    model_hosp.loc['hosp','model']='exp'\n",
    "elif min_error == SSE_quad:\n",
    "    model_hosp.loc['hosp',['a','b','c']]=popt_quad\n",
    "    model_hosp.loc['hosp','model']='quad'\n",
    "elif min_error == SSE_lin:\n",
    "    model_hosp.loc['hosp',['a','b']]=popt_lin\n",
    "    model_hosp.loc['hosp','model']='lin'"
   ]
  },
  {
   "cell_type": "code",
   "execution_count": 13,
   "metadata": {
    "collapsed": false
   },
   "outputs": [
    {
     "data": {
      "text/html": [
       "<div>\n",
       "<style scoped>\n",
       "    .dataframe tbody tr th:only-of-type {\n",
       "        vertical-align: middle;\n",
       "    }\n",
       "\n",
       "    .dataframe tbody tr th {\n",
       "        vertical-align: top;\n",
       "    }\n",
       "\n",
       "    .dataframe thead th {\n",
       "        text-align: right;\n",
       "    }\n",
       "</style>\n",
       "<table border=\"1\" class=\"dataframe\">\n",
       "  <thead>\n",
       "    <tr style=\"text-align: right;\">\n",
       "      <th></th>\n",
       "      <th>a</th>\n",
       "      <th>b</th>\n",
       "      <th>c</th>\n",
       "      <th>model</th>\n",
       "    </tr>\n",
       "  </thead>\n",
       "  <tbody>\n",
       "    <tr>\n",
       "      <th>hosp</th>\n",
       "      <td>1.80523</td>\n",
       "      <td>-3.267</td>\n",
       "      <td>-684.423</td>\n",
       "      <td>quad</td>\n",
       "    </tr>\n",
       "  </tbody>\n",
       "</table>\n",
       "</div>"
      ],
      "text/plain": [
       "            a      b        c model\n",
       "hosp  1.80523 -3.267 -684.423  quad"
      ]
     },
     "execution_count": 13,
     "metadata": {},
     "output_type": "execute_result"
    }
   ],
   "source": [
    "model_hosp"
   ]
  },
  {
   "cell_type": "code",
   "execution_count": 14,
   "metadata": {
    "collapsed": false
   },
   "outputs": [
    {
     "name": "stderr",
     "output_type": "stream",
     "text": [
      "/Users/annakonstorum/anaconda/lib/python3.6/site-packages/scipy/optimize/minpack.py:808: OptimizeWarning: Covariance of the parameters could not be estimated\n",
      "  category=OptimizeWarning)\n"
     ]
    }
   ],
   "source": [
    "# historical model fit for select counties\n",
    "import math\n",
    "\n",
    "counties_to_model=['Montgomery','Anne Arundel',\"Prince Georges\",\"Howard\",'Baltimore City','Baltimore County','Total']\n",
    "model_results_hist=pd.DataFrame(index=md_county.index[19:],columns=counties_to_model)\n",
    "model_results_hist.fillna(0)\n",
    "\n",
    "for date_index in md_county.index[19:]:\n",
    "    xdata=np.array(md_county.index)[date_index-9:date_index+1]\n",
    "    for county in counties_to_model:\n",
    "        ydata=np.array(md_county[county])[date_index-9:date_index+1]\n",
    "\n",
    "        popt_quad,SSE_quad = SSE_curve(xdata,ydata,quad_func)\n",
    "        popt_lin,SSE_lin = SSE_curve(xdata,ydata,lin_func)\n",
    "\n",
    "        quad_lin_diff=((SSE_lin/SSE_quad)-1)*100\n",
    "\n",
    "        if quad_lin_diff<5:\n",
    "            no_quad=1\n",
    "        else:\n",
    "            no_quad=0\n",
    "\n",
    "        try:\n",
    "            popt_exp, SSE_exp = SSE_curve(xdata,ydata,exp_func)\n",
    "            min_error=min(SSE_exp,SSE_quad,SSE_lin)\n",
    "        except:    \n",
    "            min_error=min(SSE_quad,SSE_lin)\n",
    "\n",
    "        if (min_error==SSE_quad) and (no_quad==1):\n",
    "            min_error=SSE_lin\n",
    "\n",
    "        if min_error == SSE_quad:\n",
    "            if popt_quad[0]>0:\n",
    "                model_type = \"Quadratic(up)\"\n",
    "                color='orange'\n",
    "            else:\n",
    "                model_type = \"Quadratic(down)\"\n",
    "                color='green'\n",
    "            #output = [popt_quad[0],popt_quad[1],popt_quad[2],model_type,color]\n",
    "            #output=model_type\n",
    "            output=color\n",
    "        elif min_error == SSE_lin:\n",
    "            #output = [popt_quad[0],popt_quad[1],\"Linear\",'g']\n",
    "            #output=\"Linear\"\n",
    "            output=\"green\"\n",
    "        elif min_error == SSE_exp:\n",
    "            #output = [popt_quad[0],popt_quad[1],\"Exponential\",'r']\n",
    "            #output=\"Exponential\"\n",
    "            output=\"red\"\n",
    "        model_results_hist.loc[date_index,county]=output"
   ]
  },
  {
   "cell_type": "code",
   "execution_count": 15,
   "metadata": {
    "collapsed": false
   },
   "outputs": [
    {
     "name": "stdout",
     "output_type": "stream",
     "text": [
      "Montgomery\n",
      "544.28354843\n",
      "Anne Arundel\n",
      "354.155195216\n",
      "Prince Georges\n",
      "185.750335805\n",
      "Howard\n",
      "160.519478901\n",
      "Baltimore City\n",
      "1.58434928108\n",
      "Baltimore County\n",
      "170.320112365\n",
      "Total\n",
      "336.407653609\n"
     ]
    },
    {
     "name": "stderr",
     "output_type": "stream",
     "text": [
      "/Users/annakonstorum/anaconda/lib/python3.6/site-packages/scipy/optimize/minpack.py:808: OptimizeWarning: Covariance of the parameters could not be estimated\n",
      "  category=OptimizeWarning)\n"
     ]
    }
   ],
   "source": [
    "# model fit for select counties\n",
    "import math\n",
    "\n",
    "counties_to_model=['Montgomery','Anne Arundel',\"Prince Georges\",\"Howard\",'Baltimore City','Baltimore County','Total']\n",
    "model_results=pd.DataFrame(index=counties_to_model,columns=['a','b','c','model'])\n",
    "model_results.fillna(0)\n",
    "\n",
    "xdata=np.array(md_county.index)[-10:]\n",
    "for county in counties_to_model:\n",
    "    ydata=np.array(md_county[county])[-10:]\n",
    "    \n",
    "    popt_quad,SSE_quad = SSE_curve(xdata,ydata,quad_func)\n",
    "    popt_lin,SSE_lin = SSE_curve(xdata,ydata,lin_func)\n",
    "    \n",
    "    quad_lin_diff=((SSE_lin/SSE_quad)-1)*100\n",
    "    print(county)\n",
    "    print(quad_lin_diff)\n",
    "    \n",
    "    if quad_lin_diff<5:\n",
    "        no_quad=1\n",
    "    else:\n",
    "        no_quad=0\n",
    "    \n",
    "    try:\n",
    "        popt_exp, SSE_exp = SSE_curve(xdata,ydata,exp_func)\n",
    "        min_error=min(SSE_exp,SSE_quad,SSE_lin)\n",
    "    except:    \n",
    "        min_error=min(SSE_quad,SSE_lin)\n",
    "    \n",
    "    if (min_error==SSE_quad) and (no_quad==1):\n",
    "        min_error=SSE_lin\n",
    "\n",
    "    if min_error == SSE_quad:\n",
    "        model_results.loc[county,['a','b','c']]=popt_quad\n",
    "        model_results.loc[county,'model']='quad'\n",
    "    elif min_error == SSE_lin:\n",
    "        model_results.loc[county,['a','b']]=popt_lin\n",
    "        model_results.loc[county,'model']='lin'\n",
    "    elif min_error == SSE_exp:\n",
    "        model_results.loc[county,['a','b','c']]=popt_exp\n",
    "        model_results.loc[county,'model']='exp'"
   ]
  },
  {
   "cell_type": "code",
   "execution_count": 16,
   "metadata": {
    "collapsed": false
   },
   "outputs": [
    {
     "data": {
      "text/html": [
       "<div>\n",
       "<style scoped>\n",
       "    .dataframe tbody tr th:only-of-type {\n",
       "        vertical-align: middle;\n",
       "    }\n",
       "\n",
       "    .dataframe tbody tr th {\n",
       "        vertical-align: top;\n",
       "    }\n",
       "\n",
       "    .dataframe thead th {\n",
       "        text-align: right;\n",
       "    }\n",
       "</style>\n",
       "<table border=\"1\" class=\"dataframe\">\n",
       "  <thead>\n",
       "    <tr style=\"text-align: right;\">\n",
       "      <th></th>\n",
       "      <th>a</th>\n",
       "      <th>b</th>\n",
       "      <th>c</th>\n",
       "      <th>model</th>\n",
       "    </tr>\n",
       "  </thead>\n",
       "  <tbody>\n",
       "    <tr>\n",
       "      <th>Montgomery</th>\n",
       "      <td>7.29167</td>\n",
       "      <td>-542.545</td>\n",
       "      <td>12147.8</td>\n",
       "      <td>quad</td>\n",
       "    </tr>\n",
       "    <tr>\n",
       "      <th>Anne Arundel</th>\n",
       "      <td>2.81061</td>\n",
       "      <td>-205.662</td>\n",
       "      <td>4611.33</td>\n",
       "      <td>quad</td>\n",
       "    </tr>\n",
       "    <tr>\n",
       "      <th>Prince Georges</th>\n",
       "      <td>8.60606</td>\n",
       "      <td>-594.915</td>\n",
       "      <td>12668.9</td>\n",
       "      <td>quad</td>\n",
       "    </tr>\n",
       "    <tr>\n",
       "      <th>Howard</th>\n",
       "      <td>0.859848</td>\n",
       "      <td>-56.0129</td>\n",
       "      <td>1298.08</td>\n",
       "      <td>quad</td>\n",
       "    </tr>\n",
       "    <tr>\n",
       "      <th>Baltimore City</th>\n",
       "      <td>63.3394</td>\n",
       "      <td>-1433.12</td>\n",
       "      <td>NaN</td>\n",
       "      <td>lin</td>\n",
       "    </tr>\n",
       "    <tr>\n",
       "      <th>Baltimore County</th>\n",
       "      <td>3.15909</td>\n",
       "      <td>-197.786</td>\n",
       "      <td>4245.09</td>\n",
       "      <td>quad</td>\n",
       "    </tr>\n",
       "    <tr>\n",
       "      <th>Total</th>\n",
       "      <td>28.3523</td>\n",
       "      <td>-1924.02</td>\n",
       "      <td>41993.6</td>\n",
       "      <td>quad</td>\n",
       "    </tr>\n",
       "  </tbody>\n",
       "</table>\n",
       "</div>"
      ],
      "text/plain": [
       "                         a        b        c model\n",
       "Montgomery         7.29167 -542.545  12147.8  quad\n",
       "Anne Arundel       2.81061 -205.662  4611.33  quad\n",
       "Prince Georges     8.60606 -594.915  12668.9  quad\n",
       "Howard            0.859848 -56.0129  1298.08  quad\n",
       "Baltimore City     63.3394 -1433.12      NaN   lin\n",
       "Baltimore County   3.15909 -197.786  4245.09  quad\n",
       "Total              28.3523 -1924.02  41993.6  quad"
      ]
     },
     "execution_count": 16,
     "metadata": {},
     "output_type": "execute_result"
    }
   ],
   "source": [
    "model_results"
   ]
  },
  {
   "cell_type": "code",
   "execution_count": 17,
   "metadata": {
    "collapsed": true
   },
   "outputs": [],
   "source": [
    "#func use\n",
    "def function_use(county,model_results):\n",
    "    if model_results.loc[county][\"model\"]=='exp':\n",
    "        func_use=exp_func\n",
    "        opt_model = 'Exponential'\n",
    "    elif model_results.loc[county][\"model\"]=='quad':\n",
    "        func_use=quad_func\n",
    "        opt_model = 'Quadratic (up)'\n",
    "        if model_results.loc[county]['a']<0:\n",
    "            opt_model = \"Quadratic (down)\"\n",
    "    else:\n",
    "        func_use=lin_func\n",
    "        opt_model = 'Linear'\n",
    "    return func_use, opt_model"
   ]
  },
  {
   "cell_type": "code",
   "execution_count": 18,
   "metadata": {
    "collapsed": false
   },
   "outputs": [
    {
     "data": {
      "text/html": [
       "<div>\n",
       "<style scoped>\n",
       "    .dataframe tbody tr th:only-of-type {\n",
       "        vertical-align: middle;\n",
       "    }\n",
       "\n",
       "    .dataframe tbody tr th {\n",
       "        vertical-align: top;\n",
       "    }\n",
       "\n",
       "    .dataframe thead th {\n",
       "        text-align: right;\n",
       "    }\n",
       "</style>\n",
       "<table border=\"1\" class=\"dataframe\">\n",
       "  <thead>\n",
       "    <tr style=\"text-align: right;\">\n",
       "      <th></th>\n",
       "      <th>Percent</th>\n",
       "    </tr>\n",
       "  </thead>\n",
       "  <tbody>\n",
       "    <tr>\n",
       "      <th>49</th>\n",
       "      <td>22.094</td>\n",
       "    </tr>\n",
       "    <tr>\n",
       "      <th>50</th>\n",
       "      <td>21.774</td>\n",
       "    </tr>\n",
       "    <tr>\n",
       "      <th>51</th>\n",
       "      <td>21.164</td>\n",
       "    </tr>\n",
       "  </tbody>\n",
       "</table>\n",
       "</div>"
      ],
      "text/plain": [
       "    Percent\n",
       "49   22.094\n",
       "50   21.774\n",
       "51   21.164"
      ]
     },
     "execution_count": 18,
     "metadata": {},
     "output_type": "execute_result"
    }
   ],
   "source": [
    "# hospitalization/positive case ratio\n",
    "h_p=pd.DataFrame(md_xtra.loc[21:][\"Hospitalized\"]/md_county.loc[21:][\"Total\"])\n",
    "h_p.columns=[\"Percent\"]\n",
    "h_p[\"Percent\"] = [float(\"{:.3f}\".format(100*item)) for item in h_p[\"Percent\"]]\n",
    "h_p[-4:-1]"
   ]
  },
  {
   "cell_type": "code",
   "execution_count": 19,
   "metadata": {
    "collapsed": false
   },
   "outputs": [
    {
     "data": {
      "text/plain": [
       "4.4509999999999996"
      ]
     },
     "execution_count": 19,
     "metadata": {},
     "output_type": "execute_result"
    }
   ],
   "source": [
    "# hospitalization/positive case ratio\n",
    "h_d=pd.DataFrame(md_d.loc[23:][\"Total\"]/md_county.loc[23:][\"Total\"])\n",
    "h_d.columns=[\"Percent\"]\n",
    "h_d[\"Percent\"] = [float(\"{:.3f}\".format(100*item)) for item in h_d[\"Percent\"]]\n",
    "h_d[-4:-1]\n",
    "h_d.iloc[-1][\"Percent\"]"
   ]
  },
  {
   "cell_type": "markdown",
   "metadata": {},
   "source": [
    "### Maryland model and dynamics"
   ]
  },
  {
   "cell_type": "code",
   "execution_count": 20,
   "metadata": {
    "collapsed": true
   },
   "outputs": [],
   "source": [
    "next_day = xdata_pred[-1]\n",
    "next2_day = next_day+1; next3_day = next_day+2\n",
    "sub = \"[1] First cases in Maryland; [2] Bars, restaurants, gyms close; [3] Non-essential businesses close; [4] Stay-at-home order\""
   ]
  },
  {
   "cell_type": "code",
   "execution_count": 21,
   "metadata": {
    "collapsed": false
   },
   "outputs": [],
   "source": [
    "popt_state = model_results.loc[\"Total\"][0:3]\n",
    "func_use, opt_model = function_use(\"Total\",model_results)\n",
    "\n",
    "popt_hosp = model_hosp.loc[\"hosp\"][0:3]\n",
    "func_use_hosp, opt_model_hosp = function_use(\"hosp\",model_hosp)\n",
    "\n",
    "if opt_model==\"Linear\":\n",
    "    next_day_cases = func_use(next_day, popt_state[0], popt_state[1])\n",
    "    next2_day_cases = func_use(next2_day, popt_state[0], popt_state[1])\n",
    "    next3_day_cases = func_use(next3_day, popt_state[0], popt_state[1])\n",
    "\n",
    "else:    \n",
    "    next_day_cases = func_use(next_day, popt_state[0], popt_state[1], popt_state[2])\n",
    "    next2_day_cases = func_use(next2_day, popt_state[0], popt_state[1], popt_state[2])\n",
    "    next3_day_cases = func_use(next3_day, popt_state[0], popt_state[1], popt_state[2])\n",
    "\n",
    "if opt_model_hosp==\"Linear\":\n",
    "    next_day_cases_hosp = func_use_hosp(next_day, popt_hosp[0], popt_hosp[1])\n",
    "    next2_day_cases_hosp = func_use_hosp(next2_day, popt_hosp[0], popt_hosp[1])\n",
    "    next3_day_cases_hosp = func_use_hosp(next3_day, popt_hosp[0], popt_hosp[1])\n",
    "\n",
    "else:\n",
    "    next_day_cases_hosp = func_use_hosp(next_day, popt_hosp[0], popt_hosp[1], popt_hosp[2])\n",
    "    next2_day_cases_hosp = func_use_hosp(next2_day, popt_hosp[0], popt_hosp[1], popt_hosp[2])\n",
    "    next3_day_cases_hosp = func_use_hosp(next3_day, popt_hosp[0], popt_hosp[1], popt_hosp[2])\n",
    "\n",
    "\n",
    "loc = \"Maryland cases\"\n",
    "locH = \"Maryland hospitalizations\"\n",
    "model = \"Best fit model: {}\"\n",
    "pred_text=\"Prediction for total cases:\"\n",
    "next_pred='\\t{}: {}';"
   ]
  },
  {
   "cell_type": "code",
   "execution_count": 22,
   "metadata": {
    "collapsed": false
   },
   "outputs": [
    {
     "name": "stderr",
     "output_type": "stream",
     "text": [
      "/Users/annakonstorum/anaconda/lib/python3.6/site-packages/matplotlib/backends/backend_agg.py:214: RuntimeWarning: Glyph 9 missing from current font.\n",
      "  font.set_text(s, 0.0, flags=flags)\n",
      "/Users/annakonstorum/anaconda/lib/python3.6/site-packages/matplotlib/backends/backend_agg.py:183: RuntimeWarning: Glyph 9 missing from current font.\n",
      "  font.set_text(s, 0, flags=flags)\n"
     ]
    },
    {
     "data": {
      "image/png": "[encoded data removed]",
      "text/plain": [
       "<Figure size 1080x720 with 1 Axes>"
      ]
     },
     "metadata": {},
     "output_type": "display_data"
    }
   ],
   "source": [
    "legend_elements =  [Line2D([0], [0], marker='+', color='red', label=loc, markersize=15),\n",
    "                    Line2D([0], [0], marker='', color='black',linestyle='', label=model.format(opt_model), markersize=15),\n",
    "                Line2D([1], [0], marker='', color='black',linestyle='', label=pred_text, markersize=1),\n",
    "                   Line2D([1], [0], marker='', color='black',linestyle='', label=next_pred.format(tomorrow_label,int(next_day_cases)), markersize=1),\n",
    "                   Line2D([0], [0], marker='', color='black',linestyle='', label=next_pred.format(next2_label,int(next2_day_cases)), markersize=15),\n",
    "                   Line2D([0], [0], marker='', color='black',linestyle='', label=next_pred.format(next3_label,int(next3_day_cases)), markersize=15),\n",
    "                    Line2D([0], [0], marker='+', color='green', label=locH, markersize=15),\n",
    "                    Line2D([0], [0], marker='', color='black',linestyle='', label=model.format(opt_model_hosp), markersize=15),\n",
    "                Line2D([1], [0], marker='', color='black',linestyle='', label=pred_text, markersize=1),\n",
    "                   Line2D([1], [0], marker='', color='black',linestyle='', label=next_pred.format(tomorrow_label,int(next_day_cases_hosp)), markersize=1),\n",
    "                   Line2D([0], [0], marker='', color='black',linestyle='', label=next_pred.format(next2_label,int(next2_day_cases_hosp)), markersize=15),\n",
    "                   Line2D([0], [0], marker='', color='black',linestyle='', label=next_pred.format(next3_label,int(next3_day_cases_hosp)), markersize=15)]\n",
    "\n",
    "plt.figure(figsize=(15,10))\n",
    "\n",
    "if opt_model=='Linear':\n",
    "    popt_state=popt_state[0:2]\n",
    "if opt_model_hosp==\"Linear\":\n",
    "    popt_hosp=popt_hosp[0:2]\n",
    "    \n",
    "plt.plot(xdata_pred, func_use(xdata_pred, *popt_state), color='grey',linestyle='--');\n",
    "plt.scatter(md_county.index,md_county['Total'],color='red',marker='+');\n",
    "\n",
    "plt.plot(xdata_hosp, func_use_hosp(xdata_hosp, *popt_hosp), color='grey',linestyle='--');\n",
    "plt.scatter(md_xtra.index[17:],md_xtra['Hospitalized'][17:],color='green',marker='+');\n",
    "\n",
    "plt.vlines(x=0, ymin=0, ymax=50,color='dimgrey', linewidth=0.5,linestyle='-.');\n",
    "plt.text(0.4,40,\"[1]\",rotation=0,color='black',fontsize = 13,verticalalignment='center',horizontalalignment='center');\n",
    "\n",
    "plt.vlines(x=11, ymin=0, ymax=100,color='dimgrey', linewidth=0.5,linestyle='-.');\n",
    "plt.text(11.4,90,\"[2]\",rotation=0,color='black',fontsize = 13,verticalalignment='center',horizontalalignment='center');\n",
    "\n",
    "plt.vlines(x=18, ymin=0, ymax=370,color='dimgrey', linewidth=0.5,linestyle='-.');\n",
    "plt.text(18.4,360,\"[3]\",rotation=0,color='black',fontsize = 13,verticalalignment='center',horizontalalignment='center');\n",
    "\n",
    "plt.vlines(x=25, ymin=0, ymax=1750,color='dimgrey', linewidth=0.5,linestyle='-.');\n",
    "plt.text(25.5,1740,\"[4]\",rotation=0,color='black',fontsize = 13,verticalalignment='center',horizontalalignment='center');\n",
    "\n",
    "bottom,top=plt.ylim()\n",
    "for date_index in md_county.index[19:]:\n",
    "    #plt.plot([date_index,date_index+1],[bottom,bottom])\n",
    "    color=model_results_hist.loc[date_index,\"Total\"]\n",
    "    plt.plot([date_index,date_index+1],[bottom,bottom],color=color,linewidth=3.0)\n",
    "\n",
    "plt.ylabel('# COVID cases',fontsize=15);\n",
    "plt.xticks(xdata_full, dates, rotation=45,fontsize=12)  \n",
    "plt.yticks(fontsize=12)\n",
    "plt.xlabel('Dates (2020)',fontsize=15)\n",
    "plt.legend(handles=legend_elements,fontsize=15,loc='upper left')\n",
    "plt.suptitle(\"COVID dynamics for Maryland\",fontsize=20);\n",
    "plt.title(sub, fontsize=13);\n",
    "plt.savefig(\"MD_COVID_update.png\")"
   ]
  },
  {
   "cell_type": "code",
   "execution_count": 23,
   "metadata": {
    "collapsed": false
   },
   "outputs": [
    {
     "data": {
      "text/plain": [
       "<matplotlib.legend.Legend at 0x11cca1438>"
      ]
     },
     "execution_count": 23,
     "metadata": {},
     "output_type": "execute_result"
    },
    {
     "data": {
      "image/png": "[encoded data removed]",
      "text/plain": [
       "<Figure size 1152x720 with 2 Axes>"
      ]
     },
     "metadata": {},
     "output_type": "display_data"
    }
   ],
   "source": [
    "fig = plt.figure(figsize=(16,10))\n",
    "fig.suptitle('Crude CFR (Case Fatality Rate) for Maryland',fontsize=17)\n",
    "\n",
    "ax = fig.add_subplot(221)\n",
    "legend_elements =  [Line2D([0], [0], marker='+', color='seagreen', label=\"%(Hospitalizations/positive cases)\", markersize=15)]\n",
    "plt.plot(h_p.index,h_p[\"Percent\"],'o-',color='seagreen');  \n",
    "plt.ylabel('% Hospitalizations/positive cases',fontsize=15);\n",
    "frequency=5\n",
    "plt.xticks(xdata_full[:-1:frequency], dates[:-1:frequency], rotation=45,fontsize=12)  \n",
    "plt.yticks(fontsize=12)\n",
    "plt.xlabel('Dates (2020)',fontsize=15)\n",
    "plt.legend(handles=legend_elements,fontsize=15,loc='upper left')\n",
    "\n",
    "ax = fig.add_subplot(222)\n",
    "legend_elements =  [Line2D([0], [0], marker='+', color='mediumorchid', label=\"% Crude CFR\", markersize=15)]\n",
    "plt.plot(h_d.index,h_d[\"Percent\"],'o-',color='mediumorchid');   \n",
    "plt.ylabel('% Crude CFR',fontsize=15);\n",
    "frequency=5\n",
    "plt.xticks(xdata_full[:-1:frequency], dates[:-1:frequency], rotation=45,fontsize=12)  \n",
    "plt.yticks(fontsize=12)\n",
    "plt.xlabel('Dates (2020)',fontsize=15)\n",
    "plt.legend(handles=legend_elements,fontsize=15,loc='upper left')\n",
    "\n",
    "#plt.show()\n",
    "#plt.savefig('MD_COVID_percent.png')        "
   ]
  },
  {
   "cell_type": "code",
   "execution_count": null,
   "metadata": {
    "collapsed": false
   },
   "outputs": [],
   "source": [
    "md_p_d=pd.DataFrame(index=md_d_today.index[1:],columns=['CFR'])\n",
    "for county in md_d_today.index[1:]:\n",
    "    c_d=md_d_today.loc[county]\n",
    "    c_p=md_p_today.loc[county]\n",
    "    if (c_d>1) or (c_p>20):\n",
    "        p_d=md_d_today.loc[county]/md_p_today.loc[county]*100\n",
    "        md_p_d.loc[county,'CFR']=p_d\n",
    "    else:\n",
    "        md_p_d.loc[county,'CFR']=-1\n",
    "md_p_d.sort_values(by=\"CFR\",inplace=True)\n",
    "md_p_d = md_p_d[md_p_d[\"CFR\"]>=0]"
   ]
  },
  {
   "cell_type": "code",
   "execution_count": null,
   "metadata": {
    "collapsed": true
   },
   "outputs": [],
   "source": [
    "# getting pop\n",
    "md_p_today=md_county.iloc[-1]\n",
    "md_p_pop=pd.DataFrame(index=md_pop.index[0:-6],columns=[\"positive\",\"pop\",\"fraction\"])\n",
    "for county in md_pop.index[0:-6]:\n",
    "    county_p = md_p_today.loc[county]\n",
    "    county_pop=md_pop.loc[county][\"Population_2019\"]\n",
    "    md_p_pop.loc[county][\"positive\"]=county_p\n",
    "    md_p_pop.loc[county,\"pop\"]=county_pop\n",
    "    md_p_pop.loc[county,\"fraction\"] = round(county_p/county_pop*100,4)"
   ]
  },
  {
   "cell_type": "code",
   "execution_count": null,
   "metadata": {
    "collapsed": false
   },
   "outputs": [],
   "source": [
    "cfr_county=md_p_d[\"CFR\"].values\n",
    "county_frac=md_p_pop.iloc[0:-1]\n",
    "county_frac.sort_values(by=\"fraction\",inplace=True)\n",
    "frac_county=county_frac[\"fraction\"].values\n",
    "\n",
    "fig = plt.figure(figsize=(16,10));\n",
    "fig.suptitle('Positive pop. % and crude CFR for Maryland counties',fontsize=17)\n",
    "\n",
    "ax = fig.add_subplot(221)\n",
    "plt.bar(range(county_frac.shape[0]),frac_county,color='sandybrown')\n",
    "plt.ylabel(\"% positive to population\",fontsize=14)\n",
    "plt.yticks(fontsize=12)\n",
    "plt.axhline(y=md_p_pop.loc[\"Total\"][\"fraction\"],color='black', linewidth=0.5,linestyle='-.');\n",
    "plt.text(3,md_p_pop.loc[\"Total\"][\"fraction\"]+0.01,\"% positive for Maryland\",rotation=0,color='black',fontsize = 13,verticalalignment='center',horizontalalignment='center')\n",
    "plt.xticks(range(county_frac.shape[0]),county_frac.index, rotation=90,fontsize=13);\n",
    "plt.title(\"Positive population %\",fontsize=16)\n",
    "\n",
    "ax = fig.add_subplot(222)\n",
    "plt.bar(range(md_p_d.shape[0]),cfr_county,color='palevioletred')\n",
    "plt.ylabel(\"Crude CFR\",fontsize=14)\n",
    "plt.yticks(fontsize=12)\n",
    "plt.axhline(y=h_d.iloc[-1][\"Percent\"],color='black', linewidth=0.5,linestyle='-.');\n",
    "plt.text(2.5,h_d.iloc[-1][\"Percent\"]+0.2,\"CFR for Maryland\",rotation=0,color='black',fontsize = 13,verticalalignment='center',horizontalalignment='center')\n",
    "plt.xticks(range(md_p_d.shape[0]),md_p_d.index, rotation=90,fontsize=13);\n",
    "plt.title(\"Current Crude CFR\",fontsize=16)\n",
    "\n",
    "\n",
    "\n",
    "#plt.show();\n",
    "#plt.savefig('MD_COVID_county_stats.png');  "
   ]
  },
  {
   "cell_type": "code",
   "execution_count": null,
   "metadata": {
    "collapsed": false
   },
   "outputs": [],
   "source": [
    "# reset\n",
    "md_p_today=md_county.iloc[-1]\n",
    "md_d_today=md_d.iloc[-1]\n",
    "\n",
    "# gender diffs\n",
    "female_pos_num=md_p_today[\"Female\"]\n",
    "male_pos_num=md_p_today[\"Male\"]\n",
    "\n",
    "female_pos_percent=round(female_pos_num/md_pop.loc[\"Female\"][\"Population_2019\"]*100,4)\n",
    "male_pos_percent = round(male_pos_num/md_pop.loc[\"Male\"][\"Population_2019\"]*100,4)\n",
    "\n",
    "cfr_fem = round(md_d_today[\"Female\"]/female_pos_num*100,4)\n",
    "cfr_male = round(md_d_today[\"Male\"]/male_pos_num*100,4)\n",
    "\n",
    "# ethnic diffs\n",
    "ethnicity=[\"AA\",\"Asian\",\"White\",\"Hispanic\"]\n",
    "ethnicity_plus=[\"AA\",\"Asian\",\"White\",\"Hispanic\",\"Other\",\"Data not available\"]\n",
    "ethnicity_stats = pd.DataFrame(index=ethnicity_plus,columns=[\"pos\",\"deaths\",\"pos_percent\",\"cfr\"])\n",
    "for item in ethnicity_plus:\n",
    "    item_pos_num = md_p_today[item]\n",
    "    item_d_num = md_d_today[item]\n",
    "    if item in ethnicity:\n",
    "        item_pop = md_pop.loc[item][\"Population_2019\"]\n",
    "        item_pos_percent = round(item_pos_num/item_pop*100,4)\n",
    "    item_cfr = round(item_d_num/item_pos_num*100,4)\n",
    "    ethnicity_stats.loc[item,\"pos\"]=item_pos_num\n",
    "    ethnicity_stats.loc[item,\"deaths\"]=item_d_num\n",
    "    if item in ethnicity:\n",
    "        ethnicity_stats.loc[item,\"pos_percent\"]=item_pos_percent\n",
    "    ethnicity_stats.loc[item,\"cfr\"]=item_cfr"
   ]
  },
  {
   "cell_type": "code",
   "execution_count": null,
   "metadata": {
    "collapsed": false
   },
   "outputs": [],
   "source": [
    "ethnicity_stats"
   ]
  },
  {
   "cell_type": "code",
   "execution_count": null,
   "metadata": {
    "collapsed": false,
    "scrolled": true
   },
   "outputs": [],
   "source": [
    "fig = plt.figure(figsize=(16,10));\n",
    "#fig.suptitle('COVID cases in Maryland by gender',fontsize=17)\n",
    "\n",
    "ax = fig.add_subplot(331)\n",
    "\n",
    "plt.bar([0,1],[female_pos_num,male_pos_num],color=['sandybrown'],edgecolor='Black')\n",
    "plt.ylabel(\"# positive cases\",fontsize=14)\n",
    "plt.yticks(fontsize=12)\n",
    "fem_text=str(female_pos_percent)+\"%\"\n",
    "male_text=str(male_pos_percent)+\"%\"\n",
    "\n",
    "plt.text(0,female_pos_num,fem_text,rotation=0,color='black',fontsize = 13,verticalalignment='bottom',horizontalalignment='center')\n",
    "plt.text(1,male_pos_num,male_text,rotation=0,color='black',fontsize = 13,verticalalignment='bottom',horizontalalignment='center')\n",
    "\n",
    "plt.xticks([0,1],[\"Female\",\"Male\"],fontsize=13);\n",
    "plt.title(\"Positive cases by gender (and % of total gender)\",fontsize=15)\n",
    "\n",
    "ax = fig.add_subplot(332)\n",
    "\n",
    "plt.bar([0,1],[cfr_fem,cfr_male],color=['LightSeaGreen'],edgecolor='Black')\n",
    "plt.ylabel(\"Crude CFR (%)\",fontsize=14)\n",
    "plt.yticks(fontsize=12)\n",
    "\n",
    "plt.axhline(y=h_d.iloc[-1][\"Percent\"],color='black', linewidth=0.5,linestyle='-.');\n",
    "plt.text(0.2,h_d.iloc[-1][\"Percent\"]+0.2,\"CFR for Maryland\",rotation=0,color='black',fontsize = 13,verticalalignment='center',horizontalalignment='right')\n",
    "\n",
    "plt.xticks([0,1],[\"Female\",\"Male\"],fontsize=13);\n",
    "plt.title(\"Crude CFR by gender\",fontsize=15)\n",
    "\n",
    "plt.tight_layout()\n",
    "plt.subplots_adjust(top=1)\n",
    "#plt.savefig('MD_COVID_gender.png')"
   ]
  },
  {
   "cell_type": "code",
   "execution_count": null,
   "metadata": {
    "collapsed": false
   },
   "outputs": [],
   "source": [
    "fig = plt.figure(figsize=(16,10));\n",
    "\n",
    "ax = fig.add_subplot(331)\n",
    "plt.bar([0,1,2,3],ethnicity_stats[\"pos\"][0:4],color=['sandybrown'],edgecolor='Black')\n",
    "\n",
    "plt.ylabel(\"# positive cases\",fontsize=14)\n",
    "plt.yticks(fontsize=12)\n",
    "\n",
    "plt.text(0,ethnicity_stats.loc[\"AA\"][\"pos\"],str(ethnicity_stats.loc[\"AA\"][\"pos_percent\"]),rotation=0,color='black',fontsize = 13,verticalalignment='bottom',horizontalalignment='center')\n",
    "plt.text(1,ethnicity_stats.loc[\"Asian\"][\"pos\"],str(ethnicity_stats.loc[\"Asian\"][\"pos_percent\"]),rotation=0,color='black',fontsize = 13,verticalalignment='bottom',horizontalalignment='center')\n",
    "plt.text(2,ethnicity_stats.loc[\"White\"][\"pos\"],str(ethnicity_stats.loc[\"White\"][\"pos_percent\"]),rotation=0,color='black',fontsize = 13,verticalalignment='bottom',horizontalalignment='center')\n",
    "plt.text(3,ethnicity_stats.loc[\"Hispanic\"][\"pos\"],str(ethnicity_stats.loc[\"Hispanic\"][\"pos_percent\"]),rotation=0,color='black',fontsize = 13,verticalalignment='bottom',horizontalalignment='center')\n",
    "\n",
    "#plt.text(1,male_pos_num,male_text,rotation=0,color='black',fontsize = 13,verticalalignment='bottom',horizontalalignment='center')\n",
    "\n",
    "plt.xticks([0,1,2,3],[\"African American\", \"Asian\", \"White(NH)\",\"Hispanic\"],rotation=45,fontsize=13)\n",
    "plt.title(\"Positive cases by ethnicity (and % of total ethnicity)\",fontsize=15)\n",
    "\n",
    "ax = fig.add_subplot(332)\n",
    "plt.bar([0,1,2,3,4,5],ethnicity_stats[\"cfr\"],color=['LightSeaGreen'],edgecolor='Black')\n",
    "\n",
    "plt.ylabel(\"Crude CFR (%)\",fontsize=14)\n",
    "plt.yticks(fontsize=12)\n",
    "\n",
    "plt.axhline(y=h_d.iloc[-1][\"Percent\"],color='black', linewidth=0.5,linestyle='-.');\n",
    "plt.text(1.5,h_d.iloc[-1][\"Percent\"]+0.2,\"CFR for Maryland\",rotation=0,color='black',fontsize = 13,verticalalignment='center',horizontalalignment='right')\n",
    "#plt.text(1,male_pos_num,male_text,rotation=0,color='black',fontsize = 13,verticalalignment='bottom',horizontalalignment='center')\n",
    "\n",
    "plt.xticks([0,1,2,3,4,5],[\"African American\", \"Asian\", \"White(NH)\",\"Hispanic\", \"Other(NH)\", \"Data not available\"],rotation=45,fontsize=13)\n",
    "plt.title(\"Crude CFR by ethnicity\",fontsize=15)\n",
    "\n",
    "plt.tight_layout()\n",
    "plt.subplots_adjust(top=1)\n",
    "#plt.savefig('MD_COVID_types.png')"
   ]
  },
  {
   "cell_type": "markdown",
   "metadata": {},
   "source": [
    "### Dynamics for two counties: Montgomery and Prince George's"
   ]
  },
  {
   "cell_type": "code",
   "execution_count": null,
   "metadata": {
    "collapsed": false
   },
   "outputs": [],
   "source": [
    "poptM = model_results.loc[\"Montgomery\"][0:3]\n",
    "poptP = model_results.loc[\"Prince Georges\"][0:3]\n",
    "\n",
    "func_useM, opt_modelM = function_use(\"Montgomery\",model_results)\n",
    "func_useP, opt_modelP = function_use(\"Prince Georges\",model_results)\n",
    "\n",
    "if opt_modelM==\"Linear\":\n",
    "    next_day_casesM = func_useM(next_day, poptM[0], poptM[1])\n",
    "    next2_day_casesM = func_useM(next2_day, poptM[0], poptM[1])\n",
    "    next3_day_casesM = func_useM(next3_day, poptM[0], poptM[1])\n",
    "\n",
    "else:    \n",
    "    next_day_casesM = func_useM(next_day, poptM[0], poptM[1], poptM[2])\n",
    "    next2_day_casesM = func_useM(next2_day, poptM[0], poptM[1], poptM[2])\n",
    "    next3_day_casesM = func_useM(next3_day, poptM[0], poptM[1], poptM[2])\n",
    "\n",
    "\n",
    "if opt_modelP==\"Linear\":\n",
    "    next_day_casesP = func_useP(next_day, poptP[0], poptP[1])\n",
    "    next2_day_casesP = func_useP(next2_day, poptP[0], poptP[1])\n",
    "    next3_day_casesP = func_useP(next3_day, poptP[0], poptP[1])\n",
    "\n",
    "else:\n",
    "    next_day_casesP = func_useP(next_day, poptP[0], poptP[1], poptP[2])\n",
    "    next2_day_casesP = func_useP(next2_day, poptP[0], poptP[1], poptP[2])\n",
    "    next3_day_casesP = func_useP(next3_day, poptP[0], poptP[1], poptP[2])\n",
    "\n",
    "locM = \"Montgomery County\"\n",
    "locP = \"Prince George's County\"\n",
    "model = \"Best fit model: {}\"\n",
    "pred_text=\"Prediction for total cases:\"\n",
    "next_pred='\\t{}: {}';"
   ]
  },
  {
   "cell_type": "code",
   "execution_count": null,
   "metadata": {
    "collapsed": false
   },
   "outputs": [],
   "source": [
    "# Create legend\n",
    "legend_elements =  [Line2D([0], [0], marker='+', color='maroon', label=locM, markersize=15),\n",
    "                    Line2D([0], [0], marker='', color='black',linestyle='', label=model.format(opt_modelM), markersize=15),\n",
    "                    Line2D([1], [0], marker='', color='black',linestyle='', label=pred_text, markersize=1),\n",
    "                    Line2D([1], [0], marker='', color='black',linestyle='', label=next_pred.format(tomorrow_label,int(next_day_casesM)), markersize=1),\n",
    "                    Line2D([0], [0], marker='', color='black',linestyle='', label=next_pred.format(next2_label,int(next2_day_casesM)), markersize=15),\n",
    "                    Line2D([0], [0], marker='', color='black',linestyle='', label=next_pred.format(next3_label,int(next3_day_casesM)), markersize=15),\n",
    "                    Line2D([0], [0], marker='+', color='orange', label=locP, markersize=15),\n",
    "                    Line2D([0], [0], marker='', color='black',linestyle='', label=model.format(opt_modelP), markersize=15),\n",
    "                    Line2D([1], [0], marker='', color='black',linestyle='', label=pred_text, markersize=1),\n",
    "                    Line2D([1], [0], marker='', color='black',linestyle='', label=next_pred.format(tomorrow_label,int(next_day_casesP)), markersize=1),\n",
    "                    Line2D([0], [0], marker='', color='black',linestyle='', label=next_pred.format(next2_label,int(next2_day_casesP)), markersize=15),\n",
    "                    Line2D([0], [0], marker='', color='black',linestyle='', label=next_pred.format(next3_label,int(next3_day_casesP)), markersize=15)]\n",
    "\n",
    "plt.figure(figsize=(15,10));\n",
    "\n",
    "if opt_modelM=='Linear':\n",
    "    poptM=poptM[0:2]\n",
    "if opt_modelP==\"Linear\":\n",
    "    poptP=poptP[0:2]\n",
    "\n",
    "plt.plot(xdata_pred, func_useM(xdata_pred, *poptM), color='grey',linestyle='--')\n",
    "plt.scatter(md_county.index,md_county['Montgomery'],color='maroon',marker='+')\n",
    "\n",
    "plt.plot(xdata_pred, func_useP(xdata_pred, *poptP), color='grey',linestyle='--')\n",
    "plt.scatter(md_county.index,md_county['Prince Georges'],color='orange',marker='+')\n",
    "\n",
    "# extra info\n",
    "plt.vlines(x=0, ymin=0, ymax=50,color='dimgrey', linewidth=0.5,linestyle='-.');\n",
    "plt.text(0.4,45,\"[1]\",rotation=0,color='black',fontsize = 14,verticalalignment='center',horizontalalignment='center');\n",
    "\n",
    "plt.vlines(x=11, ymin=0, ymax=70,color='dimgrey', linewidth=0.5,linestyle='-.');\n",
    "plt.text(11.4,65,\"[2]\",rotation=0,color='black',fontsize = 14,verticalalignment='center',horizontalalignment='center');\n",
    "\n",
    "plt.vlines(x=18, ymin=0, ymax=125,color='dimgrey', linewidth=0.5,linestyle='-.');\n",
    "plt.text(18.4,120,\"[3]\",rotation=0,color='black',fontsize = 14,verticalalignment='center',horizontalalignment='center');\n",
    "\n",
    "plt.vlines(x=25, ymin=0, ymax=400,color='dimgrey', linewidth=0.5,linestyle='-.');\n",
    "plt.text(25.4,395,\"[4]\",rotation=0,color='black',fontsize = 13,verticalalignment='center',horizontalalignment='center');\n",
    "\n",
    "plt.ylabel('# COVID cases',fontsize=15);\n",
    "plt.xticks(xdata_full, dates, rotation=45,fontsize=12)  \n",
    "plt.yticks(fontsize=12)\n",
    "plt.xlabel('Dates (2020)',fontsize=15)\n",
    "plt.legend(handles=legend_elements,fontsize=15,loc='upper left')\n",
    "plt.suptitle(\"COVID dynamics for two Maryland counties: Montgomery and Prince George's\",fontsize=20); \n",
    "plt.title(sub, fontsize=13);\n",
    "\n",
    "plt.savefig(\"MD_COVID_Mont_Prince_update.png\")"
   ]
  },
  {
   "cell_type": "markdown",
   "metadata": {},
   "source": [
    "### Dynamics for two counties: Howard and Anne Arundel"
   ]
  },
  {
   "cell_type": "code",
   "execution_count": null,
   "metadata": {
    "collapsed": true
   },
   "outputs": [],
   "source": [
    "poptH = model_results.loc[\"Howard\"][0:3]\n",
    "poptA = model_results.loc[\"Anne Arundel\"][0:3]\n",
    "\n",
    "func_useH, opt_modelH = function_use(\"Howard\",model_results)\n",
    "func_useA, opt_modelA = function_use(\"Anne Arundel\",model_results)\n",
    "\n",
    "if opt_modelH==\"Linear\":\n",
    "    next_day_casesH = func_useH(next_day, poptH[0], poptH[1])\n",
    "    next2_day_casesH = func_useH(next2_day, poptH[0], poptH[1])\n",
    "    next3_day_casesH = func_useH(next3_day, poptH[0], poptH[1])\n",
    "else:\n",
    "    next_day_casesH = func_useH(next_day, poptH[0], poptH[1], poptH[2])\n",
    "    next2_day_casesH = func_useH(next2_day, poptH[0], poptH[1], poptH[2])\n",
    "    next3_day_casesH = func_useH(next3_day, poptH[0], poptH[1], poptH[2])\n",
    "\n",
    "\n",
    "if opt_modelA==\"Linear\":\n",
    "    next_day_casesA = func_useA(next_day, poptA[0], poptA[1])\n",
    "    next2_day_casesA = func_useA(next2_day, poptA[0], poptA[1])\n",
    "    next3_day_casesA = func_useA(next3_day, poptA[0], poptA[1])\n",
    "\n",
    "else:\n",
    "    next_day_casesA = func_useA(next_day, poptA[0], poptA[1], poptA[2])\n",
    "    next2_day_casesA = func_useA(next2_day, poptA[0], poptA[1], poptA[2])\n",
    "    next3_day_casesA = func_useA(next3_day, poptA[0], poptA[1], poptA[2])\n",
    "\n",
    "locH = \"Howard County\"\n",
    "locA = \"Anne Arundel County\"\n",
    "model = \"Best fit model: {}\"\n",
    "pred_text=\"Prediction for total cases:\"\n",
    "next_pred='\\t{}: {}';"
   ]
  },
  {
   "cell_type": "code",
   "execution_count": null,
   "metadata": {
    "collapsed": false
   },
   "outputs": [],
   "source": [
    "# Create legend\n",
    "legend_elements =  [Line2D([0], [0], marker='+', color='yellow', label=locH, markersize=15),\n",
    "                    Line2D([0], [0], marker='', color='black',linestyle='', label=model.format(opt_modelH), markersize=15),\n",
    "                    Line2D([1], [0], marker='', color='black',linestyle='', label=pred_text, markersize=1),\n",
    "                    Line2D([1], [0], marker='', color='black',linestyle='', label=next_pred.format(tomorrow_label,int(next_day_casesH)), markersize=1),\n",
    "                    Line2D([0], [0], marker='', color='black',linestyle='', label=next_pred.format(next2_label,int(next2_day_casesH)), markersize=15),\n",
    "                    Line2D([0], [0], marker='', color='black',linestyle='', label=next_pred.format(next3_label,int(next3_day_casesH)), markersize=15),\n",
    "                    Line2D([0], [0], marker='', color='black',linestyle='', label='', markersize=15),\n",
    "                    Line2D([0], [0], marker='+', color='slateblue', label=locA, markersize=15),\n",
    "                    Line2D([0], [0], marker='', color='black',linestyle='', label=model.format(opt_modelA), markersize=15),\n",
    "                    Line2D([1], [0], marker='', color='black',linestyle='', label=pred_text, markersize=1),\n",
    "                    Line2D([1], [0], marker='', color='black',linestyle='', label=next_pred.format(tomorrow_label,int(next_day_casesA)), markersize=1),\n",
    "                    Line2D([0], [0], marker='', color='black',linestyle='', label=next_pred.format(next2_label,int(next2_day_casesA)), markersize=15),\n",
    "                    Line2D([0], [0], marker='', color='black',linestyle='', label=next_pred.format(next3_label,int(next3_day_casesA)), markersize=15)]\n",
    "\n",
    "if opt_modelH=='Linear':\n",
    "    poptH=poptH[0:2]\n",
    "if opt_modelA==\"Linear\":\n",
    "    poptA=poptA[0:2]\n",
    "\n",
    "plt.figure(figsize=(15,10));\n",
    "\n",
    "plt.plot(xdata_pred, func_useH(xdata_pred, *poptH), color='grey',linestyle='--')\n",
    "plt.scatter(md_county.index,md_county['Howard'],color='yellow',marker='+')\n",
    "\n",
    "plt.plot(xdata_pred, func_useA(xdata_pred, *poptA), color='grey',linestyle='--')\n",
    "plt.scatter(md_county.index,md_county['Anne Arundel'],color='slateblue',marker='+')\n",
    "\n",
    "# extra info\n",
    "plt.vlines(x=0, ymin=0, ymax=20,color='dimgrey', linewidth=0.5,linestyle='-.');\n",
    "plt.text(0.4,15,\"[1]\",rotation=0,color='black',fontsize = 14,verticalalignment='center',horizontalalignment='center');\n",
    "\n",
    "plt.vlines(x=11, ymin=0, ymax=20,color='dimgrey', linewidth=0.5,linestyle='-.');\n",
    "plt.text(11.4,15,\"[2]\",rotation=0,color='black',fontsize = 14,verticalalignment='center',horizontalalignment='center');\n",
    "\n",
    "plt.vlines(x=18, ymin=0, ymax=40,color='dimgrey', linewidth=0.5,linestyle='-.');\n",
    "plt.text(18.4,35,\"[3]\",rotation=0,color='black',fontsize = 14,verticalalignment='center',horizontalalignment='center');\n",
    "\n",
    "plt.vlines(x=25, ymin=0, ymax=150,color='dimgrey', linewidth=0.5,linestyle='-.');\n",
    "plt.text(25.4,145,\"[4]\",rotation=0,color='black',fontsize = 13,verticalalignment='center',horizontalalignment='center');\n",
    "\n",
    "plt.ylabel('# COVID cases',fontsize=12);\n",
    "plt.xticks(xdata_full, dates, rotation=45,fontsize=12)  \n",
    "plt.yticks(fontsize=12)\n",
    "plt.xlabel('Dates (2020)',fontsize=13)\n",
    "plt.legend(handles=legend_elements,fontsize=15,loc='upper left')\n",
    "plt.suptitle(\"COVID dynamics for two Maryland counties: Howard and Anne Arundel\",fontsize=20);   \n",
    "plt.title(sub, fontsize=13);\n",
    "\n",
    "plt.savefig(\"MD_COVID_Howard_AA_update.png\")"
   ]
  },
  {
   "cell_type": "code",
   "execution_count": null,
   "metadata": {
    "collapsed": true
   },
   "outputs": [],
   "source": [
    "poptB1 = popt_state = model_results.loc[\"Baltimore City\"][0:3]\n",
    "poptB2 = popt_state = model_results.loc[\"Baltimore County\"][0:3]\n",
    "\n",
    "func_useB1, opt_modelB1 = function_use(\"Baltimore City\",model_results)\n",
    "func_useB2, opt_modelB2 = function_use(\"Baltimore County\",model_results)\n",
    "\n",
    "if opt_modelB1==\"Linear\":\n",
    "    next_day_casesB1 = func_useB1(next_day, poptB1[0], poptB1[1])\n",
    "    next2_day_casesB1 = func_useB1(next2_day, poptB1[0], poptB1[1])\n",
    "    next3_day_casesB1 = func_useB1(next3_day, poptB1[0], poptB1[1])\n",
    "    \n",
    "else:\n",
    "    next_day_casesB1 = func_useB1(next_day, poptB1[0], poptB1[1], poptB1[2])\n",
    "    next2_day_casesB1 = func_useB1(next2_day, poptB1[0], poptB1[1], poptB1[2])\n",
    "    next3_day_casesB1 = func_useB1(next3_day, poptB1[0], poptB1[1], poptB1[2])\n",
    "\n",
    "if opt_modelB2==\"Linear\":\n",
    "    next_day_casesB2 = func_useB2(next_day, poptB2[0], poptB2[1])\n",
    "    next2_day_casesB2 = func_useB2(next2_day, poptB2[0], poptB2[1])\n",
    "    next3_day_casesB2 = func_useB2(next3_day, poptB2[0], poptB2[1])\n",
    "\n",
    "else:\n",
    "    next_day_casesB2 = func_useB2(next_day, poptB2[0], poptB2[1], poptB2[2])\n",
    "    next2_day_casesB2 = func_useB2(next2_day, poptB2[0], poptB2[1], poptB2[2])\n",
    "    next3_day_casesB2 = func_useB2(next3_day, poptB2[0], poptB2[1], poptB2[2])\n",
    "\n",
    "\n",
    "locB1 = \"Baltimore City\"\n",
    "locB2 = \"Baltimore County\"\n",
    "model = \"Best fit model: {}\"\n",
    "pred_text=\"Prediction for total cases:\"\n",
    "next_pred='\\t{}: {}';"
   ]
  },
  {
   "cell_type": "code",
   "execution_count": null,
   "metadata": {
    "collapsed": false
   },
   "outputs": [],
   "source": [
    "# BALTIMORE\n",
    "# Create legend\n",
    "legend_elements =  [Line2D([0], [0], marker='+', color='maroon', label=locB1, markersize=15),\n",
    "                    Line2D([0], [0], marker='', color='black',linestyle='', label=model.format(opt_modelB1), markersize=15),\n",
    "                    Line2D([1], [0], marker='', color='black',linestyle='', label=pred_text, markersize=1),\n",
    "                    Line2D([1], [0], marker='', color='black',linestyle='', label=next_pred.format(tomorrow_label,int(next_day_casesB1)), markersize=1),\n",
    "                    Line2D([0], [0], marker='', color='black',linestyle='', label=next_pred.format(next2_label,int(next2_day_casesB1)), markersize=15),\n",
    "                    Line2D([0], [0], marker='', color='black',linestyle='', label=next_pred.format(next3_label,int(next3_day_casesB1)), markersize=15),\n",
    "                    Line2D([0], [0], marker='', color='black',linestyle='', label='', markersize=15),\n",
    "                    Line2D([0], [0], marker='+', color='orange', label=locB2, markersize=15),\n",
    "                    Line2D([0], [0], marker='', color='black',linestyle='', label=model.format(opt_modelB2), markersize=15),\n",
    "                    Line2D([1], [0], marker='', color='black',linestyle='', label=pred_text, markersize=1),\n",
    "                    Line2D([1], [0], marker='', color='black',linestyle='', label=next_pred.format(tomorrow_label,int(next_day_casesB2)), markersize=1),\n",
    "                    Line2D([0], [0], marker='', color='black',linestyle='', label=next_pred.format(next2_label,int(next2_day_casesB2)), markersize=15),\n",
    "                    Line2D([0], [0], marker='', color='black',linestyle='', label=next_pred.format(next3_label,int(next3_day_casesB2)), markersize=15)]\n",
    "\n",
    "\n",
    "plt.figure(figsize=(15,10));\n",
    "\n",
    "if opt_modelB1=='Linear':\n",
    "    poptB1=poptB1[0:2]\n",
    "if opt_modelB2==\"Linear\":\n",
    "    poptB2=poptB2[0:2]\n",
    "\n",
    "# Plot data + model\n",
    "# model\n",
    "\n",
    "plt.plot(xdata_pred, func_useB1(xdata_pred, *poptB1), color='grey',linestyle='--')\n",
    "# data\n",
    "plt.scatter(md_county.index,md_county['Baltimore City'],color='maroon',marker='+')\n",
    "\n",
    "plt.plot(xdata_pred, func_useB2(xdata_pred, *poptB2), color='grey',linestyle='--')\n",
    "plt.scatter(md_county.index,md_county['Baltimore County'],color='orange',marker='+')\n",
    "\n",
    "# extra info\n",
    "plt.vlines(x=0, ymin=0, ymax=20,color='dimgrey', linewidth=0.5,linestyle='-.');\n",
    "plt.text(0.4,20,\"[1]\",rotation=0,color='black',fontsize = 14,verticalalignment='center',horizontalalignment='center');\n",
    "\n",
    "plt.vlines(x=11, ymin=0, ymax=20,color='dimgrey', linewidth=0.5,linestyle='-.');\n",
    "plt.text(11.4,20,\"[2]\",rotation=0,color='black',fontsize = 14,verticalalignment='center',horizontalalignment='center');\n",
    "\n",
    "plt.vlines(x=18, ymin=0, ymax=45,color='dimgrey', linewidth=0.5,linestyle='-.');\n",
    "plt.text(18.4,45,\"[3]\",rotation=0,color='black',fontsize = 14,verticalalignment='center',horizontalalignment='center');\n",
    "\n",
    "plt.vlines(x=25, ymin=0, ymax=225,color='dimgrey', linewidth=0.5,linestyle='-.');\n",
    "plt.text(25.4,220,\"[4]\",rotation=0,color='black',fontsize = 13,verticalalignment='center',horizontalalignment='center');\n",
    "\n",
    "plt.ylabel('# COVID cases',fontsize=15);\n",
    "plt.xticks(xdata_full, dates, rotation=45,fontsize=12)  \n",
    "plt.yticks(fontsize=12)\n",
    "plt.xlabel('Dates (2020)',fontsize=15)\n",
    "plt.legend(handles=legend_elements,fontsize=15,loc='upper left')\n",
    "plt.suptitle(\"COVID dynamics for Baltimore City and County\",fontsize=20);\n",
    "plt.title(sub, fontsize=13);\n",
    "\n",
    "plt.savefig(\"MD_COVID_Baltimore_update.png\")"
   ]
  },
  {
   "cell_type": "code",
   "execution_count": null,
   "metadata": {
    "collapsed": true
   },
   "outputs": [],
   "source": []
  }
 ],
 "metadata": {
  "kernelspec": {
   "display_name": "Python 3",
   "language": "python",
   "name": "python3"
  },
  "language_info": {
   "codemirror_mode": {
    "name": "ipython",
    "version": 3
   },
   "file_extension": ".py",
   "mimetype": "text/x-python",
   "name": "python",
   "nbconvert_exporter": "python",
   "pygments_lexer": "ipython3",
   "version": "3.6.8"
  },
  "varInspector": {
   "cols": {
    "lenName": 16,
    "lenType": 16,
    "lenVar": 40
   },
   "kernels_config": {
    "python": {
     "delete_cmd_postfix": "",
     "delete_cmd_prefix": "del ",
     "library": "var_list.py",
     "varRefreshCmd": "print(var_dic_list())"
    },
    "r": {
     "delete_cmd_postfix": ") ",
     "delete_cmd_prefix": "rm(",
     "library": "var_list.r",
     "varRefreshCmd": "cat(var_dic_list()) "
    }
   },
   "position": {
    "height": "144px",
    "left": "655.427px",
    "right": "20px",
    "top": "127.993px",
    "width": "350px"
   },
   "types_to_exclude": [
    "module",
    "function",
    "builtin_function_or_method",
    "instance",
    "_Feature"
   ],
   "window_display": true
  }
 },
 "nbformat": 4,
 "nbformat_minor": 2
}
